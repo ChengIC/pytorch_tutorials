{
 "cells": [
  {
   "cell_type": "markdown",
   "id": "a6e410aa",
   "metadata": {},
   "source": [
    "# Transformer, many-to-many with text\n",
    "### Decoder Only Architecture\n",
    "\n",
    "Let's revisit text generation and see how we can use Attention to create a Transformer instead of an LSTM. The type of Transformer network we will be using is called a \"Decoder only\" as there is no cross-attention.\n",
    "We will instead be using a type of Self-Attention called \"Masked Self-Attention\". Similar to regular Self-Attention, \"Masked Self-Attention\" uses \"Causal Masking\" to prevent tokens from querying other tokens that are later in the input sequence.<br>\n",
    "Why?\n",
    "<br>\n",
    "As we're doing next-token prediction, if we let a token query every token in the sequence it will be able to simply \"look\" at what comes next in the sequence and return exactly what comes next! This is not useful as at test time when we want it to generate text it won't be able to do that!<br>\n",
    "With \"Causal Masking\" we simply mask-out (multiply by zero) regions of the attention map that correspond to a token querying tokens that are later in the sequence. As a result a token will only be able to query itself, or any token that came BEFORE it in the sequence!\n",
    "\n",
    "<img src=\"../data/llm_architecture_comparison.png\" width=\"600\" align=\"center\">\n",
    "<br>\n",
    "We don't be exactly implementing the Decoder only Transformer detailed above, our network will basically be the Decoder from the Encoder-Decoder network without the Cross-Attention (input from the Encoder).\n",
    "<br>\n",
    "NOTE: We will cover Encoder-Decoder networks in the next notebook!"
   ]
  },
  {
   "cell_type": "code",
   "execution_count": 1,
   "id": "aaab1d66",
   "metadata": {},
   "outputs": [
    {
     "name": "stdout",
     "output_type": "stream",
     "text": [
      "CUDA available: True\n",
      "CUDA device count: 1\n",
      "Current CUDA device: 0\n",
      "CUDA device name: NVIDIA GeForce RTX 3090\n"
     ]
    }
   ],
   "source": [
    "import pandas as pd\n",
    "import numpy as np\n",
    "import matplotlib.pyplot as plt\n",
    "import os\n",
    "import io\n",
    "import re\n",
    "import math\n",
    "from tqdm.notebook import trange, tqdm\n",
    "\n",
    "import torch\n",
    "import torch.nn as nn\n",
    "from torch import optim\n",
    "from torch.utils.data import DataLoader\n",
    "from torch.utils.data.dataset import Dataset\n",
    "import torch.nn.functional as F\n",
    "from torch.distributions import Categorical\n",
    "\n",
    "from torchtext.datasets import WikiText2, EnWik9, AG_NEWS\n",
    "from torchtext.data.utils import get_tokenizer\n",
    "from torchtext.vocab import build_vocab_from_iterator\n",
    "import torchtext.transforms as T\n",
    "from torch.hub import load_state_dict_from_url\n",
    "from torchtext.data.functional import sentencepiece_tokenizer, load_sp_model\n",
    "\n",
    "import warnings\n",
    "import torchtext\n",
    "\n",
    "torch.backends.cuda.matmul.allow_tf32 = True\n",
    "\n",
    "print(f\"CUDA available: {torch.cuda.is_available()}\")\n",
    "print(f\"CUDA device count: {torch.cuda.device_count()}\")\n",
    "if torch.cuda.is_available():\n",
    "    print(f\"Current CUDA device: {torch.cuda.current_device()}\")\n",
    "    print(f\"CUDA device name: {torch.cuda.get_device_name(0)}\")\n"
   ]
  },
  {
   "cell_type": "code",
   "execution_count": 2,
   "id": "1d5e339d",
   "metadata": {},
   "outputs": [],
   "source": [
    "# Define the hyperparameters\n",
    "# Learning rate for the optimizer\n",
    "learning_rate = 1e-4\n",
    "\n",
    "# Number of epochs for training\n",
    "nepochs = 100\n",
    "\n",
    "# Batch size for data loaders\n",
    "batch_size = 128\n",
    "\n",
    "# Maximum sequence length for text inputs\n",
    "max_len = 64\n",
    "\n",
    "# Root directory of the dataset\n",
    "data_set_root = \"../../datasets\""
   ]
  },
  {
   "cell_type": "markdown",
   "id": "0803a8dc",
   "metadata": {},
   "source": [
    "## Data processing and Tokenization"
   ]
  },
  {
   "cell_type": "code",
   "execution_count": 3,
   "id": "77d58e29",
   "metadata": {},
   "outputs": [],
   "source": [
    "# We'll be using the AG News Dataset\n",
    "# Which contains a short news article and a single label to classify the \"type\" of article\n",
    "# Note that for torchtext these datasets are NOT Pytorch dataset classes \"AG_NEWS\" is a function that\n",
    "# returns a Pytorch DataPipe!\n",
    "\n",
    "# Pytorch DataPipes vvv\n",
    "# https://pytorch.org/data/main/torchdata.datapipes.iter.html\n",
    "\n",
    "# vvv Good Blog on the difference between DataSet and DataPipe\n",
    "# https://medium.com/deelvin-machine-learning/comparison-of-pytorch-dataset-and-torchdata-datapipes-486e03068c58\n",
    "# Depending on the dataset sometimes the dataset doesn't download and gives an error\n",
    "# and you'll have to download and extract manually \n",
    "# \"The datasets supported by torchtext are datapipes from the torchdata project, which is still in Beta status\"\n",
    "\n",
    "# Un-comment to triger the DataPipe to download the data vvv\n",
    "# dataset_train = YahooAnswers(root=data_set_root, split=\"train\")\n",
    "# data = next(iter(dataset_train))\n",
    "\n",
    "# Side-Note I've noticed that the WikiText dataset is no longer able to be downloaded :("
   ]
  },
  {
   "cell_type": "code",
   "execution_count": 3,
   "id": "82035813",
   "metadata": {},
   "outputs": [],
   "source": [
    "import os\n",
    "import urllib.request\n",
    "\n",
    "def download_ag_news():\n",
    "    # URLs for the AG News dataset\n",
    "    URL = {\n",
    "        'train': \"https://raw.githubusercontent.com/mhjabreel/CharCnn_Keras/master/data/ag_news_csv/train.csv\",\n",
    "        'test': \"https://raw.githubusercontent.com/mhjabreel/CharCnn_Keras/master/data/ag_news_csv/test.csv\",\n",
    "    }\n",
    "    \n",
    "    # Use the data_set_root variable\n",
    "    ag_news_path = os.path.join(data_set_root, \"datasets/AG_NEWS\")\n",
    "    os.makedirs(ag_news_path, exist_ok=True)\n",
    "    \n",
    "    for split, url in URL.items():\n",
    "        file_path = os.path.join(ag_news_path, f\"{split}.csv\")\n",
    "        if not os.path.exists(file_path):\n",
    "            print(f\"Downloading {split} dataset...\")\n",
    "            urllib.request.urlretrieve(url, file_path)\n",
    "            print(f\"{split.capitalize()} dataset downloaded successfully.\")\n",
    "        else:\n",
    "            print(f\"{split.capitalize()} dataset already exists.\")\n",
    "    \n",
    "    print(f\"AG News dataset is ready. Location: {ag_news_path}\")\n",
    "\n",
    "# Check if the dataset exists, if not, download it\n",
    "if not os.path.exists(os.path.join(data_set_root, \"datasets/AG_NEWS/train.csv\")):\n",
    "    download_ag_news()"
   ]
  },
  {
   "cell_type": "code",
   "execution_count": 4,
   "id": "1016667d",
   "metadata": {},
   "outputs": [],
   "source": [
    "# Un-Comment to train sentence-piece model for tokenizer and vocab!\n",
    "from torchtext.data.functional import generate_sp_model\n",
    "\n",
    "if not os.path.exists(os.path.join(data_set_root, \"datasets/AG_NEWS/data.txt\")):\n",
    "    with open(os.path.join(data_set_root, \"datasets/AG_NEWS/train.csv\")) as f:\n",
    "        with open(os.path.join(data_set_root, \"datasets/AG_NEWS/data.txt\"), \"w\") as f2:\n",
    "            for i, line in enumerate(f):\n",
    "                text_only = \"\".join(line.split(\",\")[1:])\n",
    "                filtered = re.sub(r'\\\\|\\\\n|;', ' ', text_only.replace('\"', ' ').replace('\\n', ' ')) # remove newline characters\n",
    "                filtered = filtered.replace(' #39;', \"'\")\n",
    "                filtered = filtered.replace(' #38;', \"&\")\n",
    "                filtered = filtered.replace(' #36;', \"$\")\n",
    "                filtered = filtered.replace(' #151;', \"-\")\n",
    "\n",
    "                f2.write(filtered.lower() + \"\\n\")\n",
    "\n",
    "if not os.path.exists(\"spm_ag_news.model\"):\n",
    "    generate_sp_model(os.path.join(data_set_root, \"datasets/AG_NEWS/data.txt\"), \n",
    "                      vocab_size=20000, model_prefix='spm_ag_news')"
   ]
  },
  {
   "cell_type": "code",
   "execution_count": 5,
   "id": "1e1f4884",
   "metadata": {},
   "outputs": [],
   "source": [
    "class AGNews(Dataset):\n",
    "    \"\"\"\n",
    "    The AGNews class is a custom Dataset for handling the AG News dataset.\n",
    "    This dataset consists of news articles categorized into four classes.\n",
    "    The class loads the data from CSV files, preprocesses the text by cleaning and combining\n",
    "    relevant columns, and provides an interface to access individual samples along with their\n",
    "    corresponding class labels.\n",
    "    \n",
    "    Attributes:\n",
    "        df (pd.DataFrame): The DataFrame containing the preprocessed dataset.\n",
    "    \"\"\"\n",
    "    \n",
    "    def __init__(self, num_datapoints, test_train=\"train\"):\n",
    "        # Load the dataset from the specified CSV file\n",
    "        self.df = pd.read_csv(os.path.join(data_set_root, \"datasets/AG_NEWS/\" + test_train + \".csv\"),\n",
    "                              names=[\"Class\", \"Title\", \"Content\"])\n",
    "        \n",
    "        # Fill any missing values with empty strings\n",
    "        self.df.fillna('', inplace=True)\n",
    "        \n",
    "        # Combine the Title and Content columns into a single Article column\n",
    "        self.df['Article'] = self.df['Title'] + \" : \" + self.df['Content']\n",
    "        \n",
    "        # Drop the now redundant Title and Content columns\n",
    "        self.df.drop(['Title', 'Content'], axis=1, inplace=True)\n",
    "        \n",
    "        # Clean the Article column by removing unwanted characters and replacing HTML codes\n",
    "        self.df['Article'] = self.df['Article'].str.replace(r'\\\\n|\\\\|\\\\r|\\\\r\\\\n|\\n|\"', ' ', regex=True)\n",
    "        self.df['Article'] = self.df['Article'].replace({' #39;': \"'\", \n",
    "                                                         ' #38;': \"&\", \n",
    "                                                         ' #36;': \"$\",\n",
    "                                                         ' #151;': \"-\"}, \n",
    "                                                        regex=True)\n",
    "\n",
    "    def __getitem__(self, index):\n",
    "        # Retrieve the article text and convert it to lowercase\n",
    "        text = self.df.loc[index][\"Article\"].lower()\n",
    "\n",
    "        # Return a tuple of the class index and the article text\n",
    "        return text\n",
    "    \n",
    "    def __len__(self):\n",
    "        # Return the number of data points in the dataset\n",
    "        return len(self.df)"
   ]
  },
  {
   "cell_type": "code",
   "execution_count": 6,
   "id": "7087111e",
   "metadata": {},
   "outputs": [],
   "source": [
    "# Create training and testing datasets\n",
    "dataset_train = AGNews(num_datapoints=data_set_root, test_train=\"train\")\n",
    "dataset_test = AGNews(num_datapoints=data_set_root, test_train=\"test\")\n",
    "\n",
    "# Create data loaders for the training and testing datasets\n",
    "data_loader_train = DataLoader(dataset_train, batch_size=batch_size, shuffle=True, num_workers=8, drop_last=True)\n",
    "data_loader_test = DataLoader(dataset_test, batch_size=batch_size, shuffle=True, num_workers=8)"
   ]
  },
  {
   "cell_type": "code",
   "execution_count": 7,
   "id": "da5423e1",
   "metadata": {},
   "outputs": [],
   "source": [
    "def yield_tokens(file_path):\n",
    "    with io.open(file_path, encoding='utf-8') as f:\n",
    "        # Iterate through each line in the file\n",
    "        for line in f:\n",
    "            # Yield the token from the first column (split by tab)\n",
    "            yield [line.split(\"\\t\")[0]]\n",
    "\n",
    "# Build a vocabulary from the tokens yielded by the yield_tokens function\n",
    "# We will also add \"special\" tokens that we'll use to signal something to our model\n",
    "# <pad> is a padding token that is added to the end of a sentence to ensure \n",
    "# the length of all sequences in a batch is the same\n",
    "# <sos> signals the \"Start-Of-Sentence\" aka the start of the sequence\n",
    "# <eos> signal the \"End-Of-Sentence\" aka the end of the sequence\n",
    "# <unk> \"unknown\" token is used if a token is not contained in the vocab\n",
    "vocab = build_vocab_from_iterator(yield_tokens(\"spm_ag_news.vocab\"), \n",
    "                                  specials=['<pad>', '<sos>', '<eos>', '<unk>'],\n",
    "                                  special_first=True)\n",
    "\n",
    "# Set the default index for unknown tokens to the index of the '<unk>' token\n",
    "vocab.set_default_index(vocab['<unk>'])"
   ]
  },
  {
   "cell_type": "code",
   "execution_count": 8,
   "id": "7fff8729",
   "metadata": {},
   "outputs": [],
   "source": [
    "class TokenDrop(nn.Module):\n",
    "    \"\"\"For a batch of tokens indices, randomly replace a non-specical token with <pad>.\n",
    "    \n",
    "    Args:\n",
    "        prob (float): probability of dropping a token\n",
    "        pad_token (int): index for the <pad> token\n",
    "        num_special (int): Number of special tokens, assumed to be at the start of the vocab\n",
    "    \"\"\"\n",
    "\n",
    "    def __init__(self, prob=0.1, pad_token=0, num_special=4):\n",
    "        self.prob = prob\n",
    "        self.num_special = num_special\n",
    "        self.pad_token = pad_token\n",
    "\n",
    "    def __call__(self, sample):\n",
    "        # Randomly sample a bernoulli distribution with p=prob\n",
    "        # to create a mask where 1 means we will replace that token\n",
    "        mask = torch.bernoulli(self.prob * torch.ones_like(sample)).long()\n",
    "        \n",
    "        # only replace if the token is not a special token\n",
    "        can_drop = (sample >= self.num_special).long()\n",
    "        mask = mask * can_drop\n",
    "        \n",
    "        replace_with = (self.pad_token * torch.ones_like(sample)).long()\n",
    "        \n",
    "        sample_out = (1 - mask) * sample + mask * replace_with\n",
    "        \n",
    "        return sample_out"
   ]
  },
  {
   "cell_type": "code",
   "execution_count": 9,
   "id": "5ca059c4",
   "metadata": {},
   "outputs": [],
   "source": [
    "train_tranform = T.Sequential(\n",
    "    # Tokeniz with pre-existing Tokenizer\n",
    "    T.SentencePieceTokenizer(\"spm_ag_news.model\"),\n",
    "    ## converts the sentences to indices based on given vocabulary\n",
    "    T.VocabTransform(vocab=vocab),\n",
    "    ## Add <sos> at beginning of each sentence. 1 because the index for <sos> in vocabulary is\n",
    "    # 1 as seen in previous section\n",
    "    T.AddToken(1, begin=True),\n",
    "    # Crop the sentance if it is longer than the max length\n",
    "    T.Truncate(max_seq_len=max_len),\n",
    "    ## Add <eos> at beginning of each sentence. 2 because the index for <eos> in vocabulary is\n",
    "    # 2 as seen in previous section\n",
    "    T.AddToken(2, begin=False),\n",
    "    # Convert the list of lists to a tensor, this will also\n",
    "    # Pad a sentence with the <pad> token if it is shorter than the max length\n",
    "    # This ensures all sentences are the same length!\n",
    "    T.ToTensor(padding_value=0),\n",
    ")\n",
    "\n",
    "gen_tranform = T.Sequential(\n",
    "    # Tokeniz with pre-existing Tokenizer\n",
    "    T.SentencePieceTokenizer(\"spm_ag_news.model\"),\n",
    "    ## converts the sentences to indices based on given vocabulary\n",
    "    T.VocabTransform(vocab=vocab),\n",
    "    ## Add <sos> at beginning of each sentence. 1 because the index for <sos> in vocabulary is\n",
    "    # 1 as seen in previous section\n",
    "    T.AddToken(1, begin=True),\n",
    "    # Convert the list of lists to a tensor, this will also\n",
    "    # Pad a sentence with the <pad> token if it is shorter than the max length\n",
    "    # This ensures all sentences are the same length!\n",
    "    T.ToTensor(padding_value=0)\n",
    ")\n"
   ]
  },
  {
   "cell_type": "code",
   "execution_count": 10,
   "id": "6b6eba24",
   "metadata": {},
   "outputs": [
    {
     "name": "stdout",
     "output_type": "stream",
     "text": [
      "SENTENCE\n",
      "hamm can keep olympic all-round gold :  london (reuters) - american gymnast paul hamm will keep his  olympic all-round gold medal after the lausanne-based court of  arbitration for sport (cas) rejected an appeal from south  korea's yang tae-young.\n",
      "\n",
      "TOKENS\n",
      "['<sos>', '▁hamm', '▁can', '▁keep', '▁olympic', '▁all', '-', 'round', '▁gold', '▁:', '▁london', '▁(', 'reuters', ')', '▁-', '▁american', '▁gymnast', '▁paul', '▁hamm', '▁will', '▁keep', '▁his', '▁olympic', '▁all', '-', 'round', '▁gold', '▁medal', '▁after', '▁the', '▁lausanne', '-', 'based', '▁court', '▁of', '▁arbitration', '▁for', '▁sport', '▁(', 'ca', 's', ')', '▁rejected', '▁an', '▁appeal', '▁from', '▁south', '▁korea', \"'\", 's', '▁yang', '▁tae', '-', 'young', '.', '<eos>', '<pad>', '<pad>', '<pad>', '<pad>', '<pad>', '<pad>', '<pad>', '<pad>', '<pad>']\n"
     ]
    }
   ],
   "source": [
    "text = next(iter(data_loader_train))\n",
    "index = 0\n",
    "input_tokens = train_tranform(list(text))\n",
    "print(\"SENTENCE\")\n",
    "print(text[index])\n",
    "print()\n",
    "print(\"TOKENS\")\n",
    "print(vocab.lookup_tokens(input_tokens[index].numpy()))"
   ]
  },
  {
   "cell_type": "code",
   "execution_count": 11,
   "id": "68178f50",
   "metadata": {},
   "outputs": [
    {
     "name": "stdout",
     "output_type": "stream",
     "text": [
      "TOKENS BACK TO SENTENCE\n"
     ]
    },
    {
     "data": {
      "text/plain": [
       "\"<sos> hamm can keep olympic all-round gold : london (reuters) - american gymnast paul hamm will keep his olympic all-round gold medal after the lausanne-based court of arbitration for sport (cas) rejected an appeal from south korea's yang tae-young.<eos><pad><pad><pad><pad><pad><pad><pad><pad><pad>\""
      ]
     },
     "execution_count": 11,
     "metadata": {},
     "output_type": "execute_result"
    }
   ],
   "source": [
    "print(\"TOKENS BACK TO SENTENCE\")\n",
    "\n",
    "pred_text = \"\".join(vocab.lookup_tokens(input_tokens[index].numpy()))\n",
    "pred_text.replace(\"▁\", \" \")"
   ]
  },
  {
   "cell_type": "markdown",
   "id": "8e65424c",
   "metadata": {},
   "source": [
    "## Create Model"
   ]
  },
  {
   "cell_type": "code",
   "execution_count": 12,
   "id": "effad54d",
   "metadata": {},
   "outputs": [],
   "source": [
    "# Sinusoidal positional embeddings\n",
    "class SinusoidalPosEmb(nn.Module):\n",
    "    \"\"\"\n",
    "    Sinusoidal positional embeddings module.\n",
    "    \"\"\"\n",
    "\n",
    "    def __init__(self, dim):\n",
    "        super().__init__()\n",
    "        self.dim = dim\n",
    "\n",
    "    def forward(self, x):\n",
    "        # Calculate sinusoidal positional embeddings\n",
    "        device = x.device\n",
    "        half_dim = self.dim // 2\n",
    "        emb = math.log(10000) / (half_dim - 1)\n",
    "        emb = torch.exp(torch.arange(half_dim, device=device) * -emb)\n",
    "        emb = x[:, None] * emb[None, :]\n",
    "        emb = torch.cat((emb.sin(), emb.cos()), dim=-1)\n",
    "        return emb\n",
    "\n",
    "    \n",
    "# Transformer block with Attention and causal masking\n",
    "class TransformerBlock(nn.Module):\n",
    "    \"\"\"\n",
    "    Transformer block with self-attention and causal masking.\n",
    "    \"\"\"\n",
    "\n",
    "    def __init__(self, hidden_size=128, num_heads=4):\n",
    "        super(TransformerBlock, self).__init__()\n",
    "\n",
    "        # Layer normalization for input\n",
    "        self.norm1 = nn.LayerNorm(hidden_size)\n",
    "\n",
    "        # Multi-head self-attention mechanism\n",
    "        self.multihead_attn = nn.MultiheadAttention(hidden_size, \n",
    "                                                    num_heads=num_heads, \n",
    "                                                    batch_first=True,\n",
    "                                                    dropout=0.1)\n",
    "\n",
    "        # Layer normalization for attention output\n",
    "        self.norm2 = nn.LayerNorm(hidden_size)\n",
    "\n",
    "        # Feedforward neural network\n",
    "        self.mlp = nn.Sequential(\n",
    "            nn.Linear(hidden_size, hidden_size * 4),\n",
    "            nn.ELU(),\n",
    "            nn.Linear(hidden_size * 4, hidden_size)\n",
    "        )\n",
    "\n",
    "    def forward(self, x, padding_mask):\n",
    "        # Create causal mask for Attention\n",
    "        bs, l, h = x.shape\n",
    "        mask = torch.triu(torch.ones(l, l, device=x.device), 1).bool()\n",
    "\n",
    "        # Layer normalization\n",
    "        norm_x = self.norm1(x)\n",
    "\n",
    "        # Apply multi-head Attention\n",
    "        x = self.multihead_attn(norm_x, norm_x, norm_x, attn_mask=mask, key_padding_mask=padding_mask)[0] + x\n",
    "\n",
    "        # Layer normalization\n",
    "        norm_x = self.norm2(x)\n",
    "\n",
    "        # Apply feedforward neural network\n",
    "        x = self.mlp(norm_x) + x\n",
    "        return x\n",
    "\n",
    "    \n",
    "# \"Decoder-Only\" Style Transformer with Attention\n",
    "class Transformer(nn.Module):\n",
    "    \"\"\"\n",
    "    \"Decoder-Only\" Style Transformer with self-attention.\n",
    "    \"\"\"\n",
    "\n",
    "    def __init__(self, num_emb, hidden_size=128, num_layers=3, num_heads=4):\n",
    "        super(Transformer, self).__init__()\n",
    "\n",
    "        # Token embeddings\n",
    "        self.embedding = nn.Embedding(num_emb, hidden_size)\n",
    "\n",
    "        # Positional embeddings\n",
    "        self.pos_emb = SinusoidalPosEmb(hidden_size)\n",
    "\n",
    "        # List of Transformer blocks\n",
    "        self.blocks = nn.ModuleList([\n",
    "            TransformerBlock(hidden_size, num_heads) for _ in range(num_layers)\n",
    "        ])\n",
    "\n",
    "        # Output layer\n",
    "        self.fc_out = nn.Linear(hidden_size, num_emb)\n",
    "\n",
    "    def forward(self, input_seq):\n",
    "        # Mask for padding tokens\n",
    "        input_key_mask = input_seq == 0\n",
    "\n",
    "        # Embedding input sequence\n",
    "        input_embs = self.embedding(input_seq)\n",
    "        bs, l, h = input_embs.shape\n",
    "\n",
    "        # Add positional embeddings to token embeddings\n",
    "        seq_indx = torch.arange(l, device=input_seq.device)\n",
    "        pos_emb = self.pos_emb(seq_indx).reshape(1, l, h).expand(bs, l, h)\n",
    "        embs = input_embs + pos_emb\n",
    "\n",
    "        # Pass through Transformer blocks\n",
    "        for block in self.blocks:\n",
    "            embs = block(embs, padding_mask=input_key_mask)\n",
    "\n",
    "        # Output predictions\n",
    "        return self.fc_out(embs)\n"
   ]
  },
  {
   "cell_type": "markdown",
   "id": "3fc39c75",
   "metadata": {},
   "source": [
    "## Initialise Model and Optimizer"
   ]
  },
  {
   "cell_type": "code",
   "execution_count": 13,
   "id": "69cc4543",
   "metadata": {},
   "outputs": [
    {
     "name": "stdout",
     "output_type": "stream",
     "text": [
      "True\n",
      "1\n",
      "0\n",
      "NVIDIA GeForce RTX 3090\n"
     ]
    }
   ],
   "source": [
    "import torch\n",
    "print(torch.cuda.is_available())\n",
    "print(torch.cuda.device_count())\n",
    "print(torch.cuda.current_device())\n",
    "print(torch.cuda.get_device_name(0))"
   ]
  },
  {
   "cell_type": "code",
   "execution_count": 14,
   "id": "f720e406",
   "metadata": {},
   "outputs": [],
   "source": [
    "# Check if GPU is available, set device accordingly\n",
    "device = torch.device(0 if torch.cuda.is_available() else 'cpu')\n",
    "\n",
    "# Embedding Size\n",
    "hidden_size = 256\n",
    "\n",
    "# Number of transformer blocks\n",
    "num_layers = 8\n",
    "\n",
    "# MultiheadAttention Heads\n",
    "num_heads = 8\n",
    "\n",
    "# Create model\n",
    "tf_generator = Transformer(num_emb=len(vocab), num_layers=num_layers, \n",
    "                           hidden_size=hidden_size, num_heads=num_heads).to(device)\n",
    "\n",
    "# Initialize the optimizer with above parameters\n",
    "optimizer = optim.Adam(tf_generator.parameters(), lr=learning_rate)\n",
    "\n",
    "# Scaler for mixed precision training\n",
    "scaler = torch.cuda.amp.GradScaler()\n",
    "\n",
    "# Define the loss function\n",
    "loss_fn = nn.CrossEntropyLoss(reduction=\"none\")\n",
    "\n",
    "# Custom transform that will randomly replace a token with <pad>\n",
    "td = TokenDrop(prob=0.2)\n",
    "\n",
    "# Initialize training loss logger and entropy logger\n",
    "training_loss_logger = []\n",
    "entropy_logger = []"
   ]
  },
  {
   "cell_type": "code",
   "execution_count": 15,
   "id": "2fcba694",
   "metadata": {},
   "outputs": [
    {
     "name": "stdout",
     "output_type": "stream",
     "text": [
      "-This Model Has 16579619 (Approximately 16 Million) Parameters!\n"
     ]
    }
   ],
   "source": [
    "# Let's see how many Parameters our Model has!\n",
    "num_model_params = 0\n",
    "for param in tf_generator.parameters():\n",
    "    num_model_params += param.flatten().shape[0]\n",
    "\n",
    "print(\"-This Model Has %d (Approximately %d Million) Parameters!\" % (num_model_params, num_model_params//1e6))"
   ]
  },
  {
   "cell_type": "markdown",
   "id": "77d8b005",
   "metadata": {},
   "source": [
    "## Training"
   ]
  },
  {
   "cell_type": "code",
   "execution_count": 18,
   "id": "8e9da7df",
   "metadata": {},
   "outputs": [
    {
     "data": {
      "application/vnd.jupyter.widget-view+json": {
       "model_id": "a47f760303a841bb8b057e11599ebccf",
       "version_major": 2,
       "version_minor": 0
      },
      "text/plain": [
       "Epoch:   0%|          | 0/100 [00:00<?, ?it/s]"
      ]
     },
     "metadata": {},
     "output_type": "display_data"
    },
    {
     "data": {
      "application/vnd.jupyter.widget-view+json": {
       "model_id": "2b460c767cfa41c88c31ab366f15fa4d",
       "version_major": 2,
       "version_minor": 0
      },
      "text/plain": [
       "Training:   0%|          | 0/937 [00:00<?, ?it/s]"
      ]
     },
     "metadata": {},
     "output_type": "display_data"
    },
    {
     "name": "stdout",
     "output_type": "stream",
     "text": [
      "Epoch 1, Step 100, Loss: 4.4691\n",
      "Epoch 1, Step 200, Loss: 4.6073\n",
      "Epoch 1, Step 300, Loss: 4.5853\n",
      "Epoch 1, Step 400, Loss: 4.6007\n",
      "Epoch 1, Step 500, Loss: 4.4790\n",
      "Epoch 1, Step 600, Loss: 4.5571\n",
      "Epoch 1, Step 700, Loss: 4.5147\n",
      "Epoch 1, Step 800, Loss: 4.5006\n",
      "Epoch 1, Step 900, Loss: 4.5285\n",
      "Epoch 1 completed. Average Loss: 4.5046\n"
     ]
    },
    {
     "data": {
      "application/vnd.jupyter.widget-view+json": {
       "model_id": "416dc83bc65a43668e5f5cdab88001ad",
       "version_major": 2,
       "version_minor": 0
      },
      "text/plain": [
       "Training:   0%|          | 0/937 [00:00<?, ?it/s]"
      ]
     },
     "metadata": {},
     "output_type": "display_data"
    },
    {
     "name": "stdout",
     "output_type": "stream",
     "text": [
      "Epoch 2, Step 100, Loss: 4.4977\n",
      "Epoch 2, Step 200, Loss: 4.5459\n",
      "Epoch 2, Step 300, Loss: 4.1703\n",
      "Epoch 2, Step 400, Loss: 4.3606\n",
      "Epoch 2, Step 500, Loss: 4.3892\n",
      "Epoch 2, Step 600, Loss: 4.3909\n",
      "Epoch 2, Step 700, Loss: 4.4162\n",
      "Epoch 2, Step 800, Loss: 4.5980\n",
      "Epoch 2, Step 900, Loss: 4.4971\n",
      "Epoch 2 completed. Average Loss: 4.4629\n"
     ]
    },
    {
     "data": {
      "application/vnd.jupyter.widget-view+json": {
       "model_id": "2c10d59b8a3a4e7f9b215a21f6feb8f6",
       "version_major": 2,
       "version_minor": 0
      },
      "text/plain": [
       "Training:   0%|          | 0/937 [00:00<?, ?it/s]"
      ]
     },
     "metadata": {},
     "output_type": "display_data"
    },
    {
     "name": "stdout",
     "output_type": "stream",
     "text": [
      "Epoch 3, Step 100, Loss: 4.2469\n",
      "Epoch 3, Step 200, Loss: 4.3599\n",
      "Epoch 3, Step 300, Loss: 4.4222\n",
      "Epoch 3, Step 400, Loss: 4.4837\n",
      "Epoch 3, Step 500, Loss: 4.3913\n",
      "Epoch 3, Step 600, Loss: 4.4834\n",
      "Epoch 3, Step 700, Loss: 4.4726\n",
      "Epoch 3, Step 800, Loss: 4.5067\n",
      "Epoch 3, Step 900, Loss: 4.4057\n",
      "Epoch 3 completed. Average Loss: 4.4226\n"
     ]
    },
    {
     "data": {
      "application/vnd.jupyter.widget-view+json": {
       "model_id": "23ca4cde824a49ba9e259daf549cac9f",
       "version_major": 2,
       "version_minor": 0
      },
      "text/plain": [
       "Training:   0%|          | 0/937 [00:00<?, ?it/s]"
      ]
     },
     "metadata": {},
     "output_type": "display_data"
    },
    {
     "name": "stdout",
     "output_type": "stream",
     "text": [
      "Epoch 4, Step 100, Loss: 4.2829\n",
      "Epoch 4, Step 200, Loss: 4.4657\n",
      "Epoch 4, Step 300, Loss: 4.2631\n",
      "Epoch 4, Step 400, Loss: 4.4445\n",
      "Epoch 4, Step 500, Loss: 4.3516\n",
      "Epoch 4, Step 600, Loss: 4.3978\n",
      "Epoch 4, Step 700, Loss: 4.5658\n",
      "Epoch 4, Step 800, Loss: 4.5177\n",
      "Epoch 4, Step 900, Loss: 4.4309\n",
      "Epoch 4 completed. Average Loss: 4.3844\n"
     ]
    },
    {
     "data": {
      "application/vnd.jupyter.widget-view+json": {
       "model_id": "9ddfa188552242a2a0a7dfc77b5304f0",
       "version_major": 2,
       "version_minor": 0
      },
      "text/plain": [
       "Training:   0%|          | 0/937 [00:00<?, ?it/s]"
      ]
     },
     "metadata": {},
     "output_type": "display_data"
    },
    {
     "name": "stdout",
     "output_type": "stream",
     "text": [
      "Epoch 5, Step 100, Loss: 4.2450\n",
      "Epoch 5, Step 200, Loss: 4.3240\n",
      "Epoch 5, Step 300, Loss: 4.4946\n",
      "Epoch 5, Step 400, Loss: 4.4082\n",
      "Epoch 5, Step 500, Loss: 4.4496\n",
      "Epoch 5, Step 600, Loss: 4.3531\n",
      "Epoch 5, Step 700, Loss: 4.4205\n",
      "Epoch 5, Step 800, Loss: 4.2321\n",
      "Epoch 5, Step 900, Loss: 4.2705\n",
      "Epoch 5 completed. Average Loss: 4.3503\n"
     ]
    },
    {
     "data": {
      "application/vnd.jupyter.widget-view+json": {
       "model_id": "0ed2f21c27424729ae7778af6514109d",
       "version_major": 2,
       "version_minor": 0
      },
      "text/plain": [
       "Training:   0%|          | 0/937 [00:00<?, ?it/s]"
      ]
     },
     "metadata": {},
     "output_type": "display_data"
    },
    {
     "name": "stdout",
     "output_type": "stream",
     "text": [
      "Epoch 6, Step 100, Loss: 4.2373\n",
      "Epoch 6, Step 200, Loss: 4.4230\n",
      "Epoch 6, Step 300, Loss: 4.4535\n",
      "Epoch 6, Step 400, Loss: 4.3886\n",
      "Epoch 6, Step 500, Loss: 4.3357\n",
      "Epoch 6, Step 600, Loss: 4.4734\n",
      "Epoch 6, Step 700, Loss: 4.2961\n",
      "Epoch 6, Step 800, Loss: 4.2931\n",
      "Epoch 6, Step 900, Loss: 4.2636\n",
      "Epoch 6 completed. Average Loss: 4.3145\n"
     ]
    },
    {
     "data": {
      "application/vnd.jupyter.widget-view+json": {
       "model_id": "d668c9329b0e437894e05c5dcfcb7afc",
       "version_major": 2,
       "version_minor": 0
      },
      "text/plain": [
       "Training:   0%|          | 0/937 [00:00<?, ?it/s]"
      ]
     },
     "metadata": {},
     "output_type": "display_data"
    },
    {
     "name": "stdout",
     "output_type": "stream",
     "text": [
      "Epoch 7, Step 100, Loss: 4.2358\n",
      "Epoch 7, Step 200, Loss: 4.3515\n",
      "Epoch 7, Step 300, Loss: 4.2893\n",
      "Epoch 7, Step 400, Loss: 4.0995\n",
      "Epoch 7, Step 500, Loss: 4.2723\n",
      "Epoch 7, Step 600, Loss: 4.2497\n",
      "Epoch 7, Step 700, Loss: 4.2855\n",
      "Epoch 7, Step 800, Loss: 4.2723\n",
      "Epoch 7, Step 900, Loss: 4.3253\n",
      "Epoch 7 completed. Average Loss: 4.2839\n"
     ]
    },
    {
     "data": {
      "application/vnd.jupyter.widget-view+json": {
       "model_id": "ea5e450491c944c2b6dcdc352907a5bd",
       "version_major": 2,
       "version_minor": 0
      },
      "text/plain": [
       "Training:   0%|          | 0/937 [00:00<?, ?it/s]"
      ]
     },
     "metadata": {},
     "output_type": "display_data"
    },
    {
     "name": "stdout",
     "output_type": "stream",
     "text": [
      "Epoch 8, Step 100, Loss: 4.3446\n",
      "Epoch 8, Step 200, Loss: 4.1528\n",
      "Epoch 8, Step 300, Loss: 4.0921\n",
      "Epoch 8, Step 400, Loss: 4.1553\n",
      "Epoch 8, Step 500, Loss: 4.2876\n",
      "Epoch 8, Step 600, Loss: 4.2039\n",
      "Epoch 8, Step 700, Loss: 4.4762\n",
      "Epoch 8, Step 800, Loss: 4.3992\n",
      "Epoch 8, Step 900, Loss: 4.2715\n",
      "Epoch 8 completed. Average Loss: 4.2530\n"
     ]
    },
    {
     "data": {
      "application/vnd.jupyter.widget-view+json": {
       "model_id": "73c49b3c854e456b86d1a2fb28351e12",
       "version_major": 2,
       "version_minor": 0
      },
      "text/plain": [
       "Training:   0%|          | 0/937 [00:00<?, ?it/s]"
      ]
     },
     "metadata": {},
     "output_type": "display_data"
    },
    {
     "name": "stdout",
     "output_type": "stream",
     "text": [
      "Epoch 9, Step 100, Loss: 4.4095\n",
      "Epoch 9, Step 200, Loss: 3.9948\n",
      "Epoch 9, Step 300, Loss: 4.1811\n",
      "Epoch 9, Step 400, Loss: 4.3189\n",
      "Epoch 9, Step 500, Loss: 4.2440\n",
      "Epoch 9, Step 600, Loss: 4.4674\n",
      "Epoch 9, Step 700, Loss: 4.1593\n",
      "Epoch 9, Step 800, Loss: 4.2246\n",
      "Epoch 9, Step 900, Loss: 4.2434\n",
      "Epoch 9 completed. Average Loss: 4.2237\n"
     ]
    },
    {
     "data": {
      "application/vnd.jupyter.widget-view+json": {
       "model_id": "018ed69ce776435ba2ad6399d014c7ca",
       "version_major": 2,
       "version_minor": 0
      },
      "text/plain": [
       "Training:   0%|          | 0/937 [00:00<?, ?it/s]"
      ]
     },
     "metadata": {},
     "output_type": "display_data"
    },
    {
     "name": "stdout",
     "output_type": "stream",
     "text": [
      "Epoch 10, Step 100, Loss: 4.2449\n",
      "Epoch 10, Step 200, Loss: 4.0862\n",
      "Epoch 10, Step 300, Loss: 4.1718\n",
      "Epoch 10, Step 400, Loss: 4.1758\n",
      "Epoch 10, Step 500, Loss: 4.1717\n",
      "Epoch 10, Step 600, Loss: 4.0968\n",
      "Epoch 10, Step 700, Loss: 4.2801\n",
      "Epoch 10, Step 800, Loss: 4.1972\n",
      "Epoch 10, Step 900, Loss: 4.3189\n",
      "Epoch 10 completed. Average Loss: 4.1963\n"
     ]
    },
    {
     "data": {
      "application/vnd.jupyter.widget-view+json": {
       "model_id": "349ba563e05d4e73af0d7d3e9cb5eb98",
       "version_major": 2,
       "version_minor": 0
      },
      "text/plain": [
       "Training:   0%|          | 0/937 [00:00<?, ?it/s]"
      ]
     },
     "metadata": {},
     "output_type": "display_data"
    },
    {
     "name": "stdout",
     "output_type": "stream",
     "text": [
      "Epoch 11, Step 100, Loss: 4.1767\n",
      "Epoch 11, Step 200, Loss: 4.0280\n",
      "Epoch 11, Step 300, Loss: 4.2263\n",
      "Epoch 11, Step 400, Loss: 3.8682\n",
      "Epoch 11, Step 500, Loss: 4.0369\n",
      "Epoch 11, Step 600, Loss: 4.1444\n",
      "Epoch 11, Step 700, Loss: 4.0322\n",
      "Epoch 11, Step 800, Loss: 4.1326\n",
      "Epoch 11, Step 900, Loss: 4.2302\n",
      "Epoch 11 completed. Average Loss: 4.1677\n"
     ]
    },
    {
     "data": {
      "application/vnd.jupyter.widget-view+json": {
       "model_id": "d28278582daa4a2b8964821a2326f96d",
       "version_major": 2,
       "version_minor": 0
      },
      "text/plain": [
       "Training:   0%|          | 0/937 [00:00<?, ?it/s]"
      ]
     },
     "metadata": {},
     "output_type": "display_data"
    },
    {
     "name": "stdout",
     "output_type": "stream",
     "text": [
      "Epoch 12, Step 100, Loss: 4.1747\n",
      "Epoch 12, Step 200, Loss: 4.0509\n",
      "Epoch 12, Step 300, Loss: 4.2003\n",
      "Epoch 12, Step 400, Loss: 4.2679\n",
      "Epoch 12, Step 500, Loss: 4.1931\n",
      "Epoch 12, Step 600, Loss: 3.9581\n",
      "Epoch 12, Step 700, Loss: 4.2138\n",
      "Epoch 12, Step 800, Loss: 4.2087\n",
      "Epoch 12, Step 900, Loss: 4.1426\n",
      "Epoch 12 completed. Average Loss: 4.1433\n"
     ]
    },
    {
     "data": {
      "application/vnd.jupyter.widget-view+json": {
       "model_id": "f4bf3d785c8b498eb303682612fc0a99",
       "version_major": 2,
       "version_minor": 0
      },
      "text/plain": [
       "Training:   0%|          | 0/937 [00:00<?, ?it/s]"
      ]
     },
     "metadata": {},
     "output_type": "display_data"
    },
    {
     "name": "stdout",
     "output_type": "stream",
     "text": [
      "Epoch 13, Step 100, Loss: 4.1326\n",
      "Epoch 13, Step 200, Loss: 4.1796\n",
      "Epoch 13, Step 300, Loss: 3.9138\n",
      "Epoch 13, Step 400, Loss: 4.0614\n",
      "Epoch 13, Step 500, Loss: 4.1068\n",
      "Epoch 13, Step 600, Loss: 4.0597\n",
      "Epoch 13, Step 700, Loss: 4.1395\n",
      "Epoch 13, Step 800, Loss: 4.1560\n",
      "Epoch 13, Step 900, Loss: 4.1843\n",
      "Epoch 13 completed. Average Loss: 4.1183\n"
     ]
    },
    {
     "data": {
      "application/vnd.jupyter.widget-view+json": {
       "model_id": "46013a88b470485799b1ff6aa69d9524",
       "version_major": 2,
       "version_minor": 0
      },
      "text/plain": [
       "Training:   0%|          | 0/937 [00:00<?, ?it/s]"
      ]
     },
     "metadata": {},
     "output_type": "display_data"
    },
    {
     "name": "stdout",
     "output_type": "stream",
     "text": [
      "Epoch 14, Step 100, Loss: 3.9315\n",
      "Epoch 14, Step 200, Loss: 4.0377\n",
      "Epoch 14, Step 300, Loss: 4.0376\n",
      "Epoch 14, Step 400, Loss: 4.1156\n",
      "Epoch 14, Step 500, Loss: 4.1026\n",
      "Epoch 14, Step 600, Loss: 4.0966\n",
      "Epoch 14, Step 700, Loss: 4.0152\n",
      "Epoch 14, Step 800, Loss: 4.0144\n",
      "Epoch 14, Step 900, Loss: 4.0747\n",
      "Epoch 14 completed. Average Loss: 4.0959\n"
     ]
    },
    {
     "data": {
      "application/vnd.jupyter.widget-view+json": {
       "model_id": "48ee89ffb183490f97cab18bfba905b1",
       "version_major": 2,
       "version_minor": 0
      },
      "text/plain": [
       "Training:   0%|          | 0/937 [00:00<?, ?it/s]"
      ]
     },
     "metadata": {},
     "output_type": "display_data"
    },
    {
     "name": "stdout",
     "output_type": "stream",
     "text": [
      "Epoch 15, Step 100, Loss: 4.0727\n",
      "Epoch 15, Step 200, Loss: 4.0055\n",
      "Epoch 15, Step 300, Loss: 4.0980\n",
      "Epoch 15, Step 400, Loss: 4.2710\n",
      "Epoch 15, Step 500, Loss: 4.0962\n",
      "Epoch 15, Step 600, Loss: 4.0570\n",
      "Epoch 15, Step 700, Loss: 4.1533\n",
      "Epoch 15, Step 800, Loss: 4.1588\n",
      "Epoch 15, Step 900, Loss: 4.0654\n",
      "Epoch 15 completed. Average Loss: 4.0734\n"
     ]
    },
    {
     "data": {
      "application/vnd.jupyter.widget-view+json": {
       "model_id": "939331b0f62241398697e7974483293e",
       "version_major": 2,
       "version_minor": 0
      },
      "text/plain": [
       "Training:   0%|          | 0/937 [00:00<?, ?it/s]"
      ]
     },
     "metadata": {},
     "output_type": "display_data"
    },
    {
     "name": "stdout",
     "output_type": "stream",
     "text": [
      "Epoch 16, Step 100, Loss: 4.0168\n",
      "Epoch 16, Step 200, Loss: 4.0415\n",
      "Epoch 16, Step 300, Loss: 4.0720\n",
      "Epoch 16, Step 400, Loss: 4.2621\n",
      "Epoch 16, Step 500, Loss: 3.9663\n",
      "Epoch 16, Step 600, Loss: 4.0994\n",
      "Epoch 16, Step 700, Loss: 4.1886\n",
      "Epoch 16, Step 800, Loss: 3.8444\n",
      "Epoch 16, Step 900, Loss: 4.0032\n",
      "Epoch 16 completed. Average Loss: 4.0502\n"
     ]
    },
    {
     "data": {
      "application/vnd.jupyter.widget-view+json": {
       "model_id": "f8535fdf1d5a476d8375f0c50338eea2",
       "version_major": 2,
       "version_minor": 0
      },
      "text/plain": [
       "Training:   0%|          | 0/937 [00:00<?, ?it/s]"
      ]
     },
     "metadata": {},
     "output_type": "display_data"
    },
    {
     "name": "stdout",
     "output_type": "stream",
     "text": [
      "Epoch 17, Step 100, Loss: 3.9971\n",
      "Epoch 17, Step 200, Loss: 3.9563\n",
      "Epoch 17, Step 300, Loss: 4.1620\n",
      "Epoch 17, Step 400, Loss: 3.8336\n",
      "Epoch 17, Step 500, Loss: 3.9952\n",
      "Epoch 17, Step 600, Loss: 3.8926\n",
      "Epoch 17, Step 700, Loss: 4.1976\n",
      "Epoch 17, Step 800, Loss: 3.9088\n",
      "Epoch 17, Step 900, Loss: 3.9013\n",
      "Epoch 17 completed. Average Loss: 4.0289\n"
     ]
    },
    {
     "data": {
      "application/vnd.jupyter.widget-view+json": {
       "model_id": "1c84b8e2c6194993930c613499dc2b91",
       "version_major": 2,
       "version_minor": 0
      },
      "text/plain": [
       "Training:   0%|          | 0/937 [00:00<?, ?it/s]"
      ]
     },
     "metadata": {},
     "output_type": "display_data"
    },
    {
     "name": "stdout",
     "output_type": "stream",
     "text": [
      "Epoch 18, Step 100, Loss: 3.9667\n",
      "Epoch 18, Step 200, Loss: 3.9760\n",
      "Epoch 18, Step 300, Loss: 4.0750\n",
      "Epoch 18, Step 400, Loss: 3.9907\n",
      "Epoch 18, Step 500, Loss: 3.9745\n",
      "Epoch 18, Step 600, Loss: 4.0136\n",
      "Epoch 18, Step 700, Loss: 3.9640\n",
      "Epoch 18, Step 800, Loss: 3.8277\n",
      "Epoch 18, Step 900, Loss: 4.0873\n",
      "Epoch 18 completed. Average Loss: 4.0077\n"
     ]
    },
    {
     "data": {
      "application/vnd.jupyter.widget-view+json": {
       "model_id": "b65de86860ae40c089d4dd4ff6d71db1",
       "version_major": 2,
       "version_minor": 0
      },
      "text/plain": [
       "Training:   0%|          | 0/937 [00:00<?, ?it/s]"
      ]
     },
     "metadata": {},
     "output_type": "display_data"
    },
    {
     "name": "stdout",
     "output_type": "stream",
     "text": [
      "Epoch 19, Step 100, Loss: 4.0265\n",
      "Epoch 19, Step 200, Loss: 3.9167\n",
      "Epoch 19, Step 300, Loss: 4.0352\n",
      "Epoch 19, Step 400, Loss: 3.9568\n",
      "Epoch 19, Step 500, Loss: 4.0421\n",
      "Epoch 19, Step 600, Loss: 3.8488\n",
      "Epoch 19, Step 700, Loss: 4.1926\n",
      "Epoch 19, Step 800, Loss: 3.7665\n",
      "Epoch 19, Step 900, Loss: 3.9902\n",
      "Epoch 19 completed. Average Loss: 3.9893\n"
     ]
    },
    {
     "data": {
      "application/vnd.jupyter.widget-view+json": {
       "model_id": "c33a98e5a08042e1b8d989040f6cf4cc",
       "version_major": 2,
       "version_minor": 0
      },
      "text/plain": [
       "Training:   0%|          | 0/937 [00:00<?, ?it/s]"
      ]
     },
     "metadata": {},
     "output_type": "display_data"
    },
    {
     "name": "stdout",
     "output_type": "stream",
     "text": [
      "Epoch 20, Step 100, Loss: 3.7303\n",
      "Epoch 20, Step 200, Loss: 3.8736\n",
      "Epoch 20, Step 300, Loss: 3.8852\n",
      "Epoch 20, Step 400, Loss: 4.0631\n",
      "Epoch 20, Step 500, Loss: 4.0175\n",
      "Epoch 20, Step 600, Loss: 4.0379\n",
      "Epoch 20, Step 700, Loss: 3.9491\n",
      "Epoch 20, Step 800, Loss: 4.0176\n",
      "Epoch 20, Step 900, Loss: 3.9802\n",
      "Epoch 20 completed. Average Loss: 3.9690\n"
     ]
    },
    {
     "data": {
      "application/vnd.jupyter.widget-view+json": {
       "model_id": "4f58029391d84ff8aa57f84136413c8b",
       "version_major": 2,
       "version_minor": 0
      },
      "text/plain": [
       "Training:   0%|          | 0/937 [00:00<?, ?it/s]"
      ]
     },
     "metadata": {},
     "output_type": "display_data"
    },
    {
     "name": "stdout",
     "output_type": "stream",
     "text": [
      "Epoch 21, Step 100, Loss: 3.9172\n",
      "Epoch 21, Step 200, Loss: 3.7331\n",
      "Epoch 21, Step 300, Loss: 3.9648\n",
      "Epoch 21, Step 400, Loss: 3.9234\n",
      "Epoch 21, Step 500, Loss: 3.9123\n",
      "Epoch 21, Step 600, Loss: 3.9239\n",
      "Epoch 21, Step 700, Loss: 4.1121\n",
      "Epoch 21, Step 800, Loss: 3.8755\n",
      "Epoch 21, Step 900, Loss: 4.0793\n",
      "Epoch 21 completed. Average Loss: 3.9507\n"
     ]
    },
    {
     "data": {
      "application/vnd.jupyter.widget-view+json": {
       "model_id": "3f81dba38a3b4e159c32ccc2713a2750",
       "version_major": 2,
       "version_minor": 0
      },
      "text/plain": [
       "Training:   0%|          | 0/937 [00:00<?, ?it/s]"
      ]
     },
     "metadata": {},
     "output_type": "display_data"
    },
    {
     "name": "stdout",
     "output_type": "stream",
     "text": [
      "Epoch 22, Step 100, Loss: 3.9441\n",
      "Epoch 22, Step 200, Loss: 3.7156\n",
      "Epoch 22, Step 300, Loss: 3.9290\n",
      "Epoch 22, Step 400, Loss: 3.9848\n",
      "Epoch 22, Step 500, Loss: 3.8567\n",
      "Epoch 22, Step 600, Loss: 4.0403\n",
      "Epoch 22, Step 700, Loss: 4.0712\n",
      "Epoch 22, Step 800, Loss: 3.9387\n",
      "Epoch 22, Step 900, Loss: 4.0218\n",
      "Epoch 22 completed. Average Loss: 3.9320\n"
     ]
    },
    {
     "data": {
      "application/vnd.jupyter.widget-view+json": {
       "model_id": "0e4a91724c1146ffa61b8b44284225f0",
       "version_major": 2,
       "version_minor": 0
      },
      "text/plain": [
       "Training:   0%|          | 0/937 [00:00<?, ?it/s]"
      ]
     },
     "metadata": {},
     "output_type": "display_data"
    },
    {
     "name": "stdout",
     "output_type": "stream",
     "text": [
      "Epoch 23, Step 100, Loss: 3.8925\n",
      "Epoch 23, Step 200, Loss: 3.8596\n",
      "Epoch 23, Step 300, Loss: 3.8751\n",
      "Epoch 23, Step 400, Loss: 3.9104\n",
      "Epoch 23, Step 500, Loss: 3.9443\n",
      "Epoch 23, Step 600, Loss: 3.9410\n",
      "Epoch 23, Step 700, Loss: 3.8985\n",
      "Epoch 23, Step 800, Loss: 3.8786\n",
      "Epoch 23, Step 900, Loss: 4.0544\n",
      "Epoch 23 completed. Average Loss: 3.9155\n"
     ]
    },
    {
     "data": {
      "application/vnd.jupyter.widget-view+json": {
       "model_id": "1d94c4cb5b84463994419616ae4a72b3",
       "version_major": 2,
       "version_minor": 0
      },
      "text/plain": [
       "Training:   0%|          | 0/937 [00:00<?, ?it/s]"
      ]
     },
     "metadata": {},
     "output_type": "display_data"
    },
    {
     "name": "stdout",
     "output_type": "stream",
     "text": [
      "Epoch 24, Step 100, Loss: 3.9253\n",
      "Epoch 24, Step 200, Loss: 3.9068\n",
      "Epoch 24, Step 300, Loss: 4.0268\n",
      "Epoch 24, Step 400, Loss: 3.8341\n",
      "Epoch 24, Step 500, Loss: 3.8088\n",
      "Epoch 24, Step 600, Loss: 3.9107\n",
      "Epoch 24, Step 700, Loss: 3.9236\n",
      "Epoch 24, Step 800, Loss: 4.0059\n",
      "Epoch 24, Step 900, Loss: 3.8763\n",
      "Epoch 24 completed. Average Loss: 3.8972\n"
     ]
    },
    {
     "data": {
      "application/vnd.jupyter.widget-view+json": {
       "model_id": "f69a2cbe7c964016ac9312d5d756f166",
       "version_major": 2,
       "version_minor": 0
      },
      "text/plain": [
       "Training:   0%|          | 0/937 [00:00<?, ?it/s]"
      ]
     },
     "metadata": {},
     "output_type": "display_data"
    },
    {
     "name": "stdout",
     "output_type": "stream",
     "text": [
      "Epoch 25, Step 100, Loss: 3.9376\n",
      "Epoch 25, Step 200, Loss: 3.7446\n",
      "Epoch 25, Step 300, Loss: 4.0790\n",
      "Epoch 25, Step 400, Loss: 3.7953\n",
      "Epoch 25, Step 500, Loss: 3.8874\n",
      "Epoch 25, Step 600, Loss: 3.8931\n",
      "Epoch 25, Step 700, Loss: 3.6179\n",
      "Epoch 25, Step 800, Loss: 3.8605\n",
      "Epoch 25, Step 900, Loss: 3.9596\n",
      "Epoch 25 completed. Average Loss: 3.8790\n"
     ]
    },
    {
     "data": {
      "application/vnd.jupyter.widget-view+json": {
       "model_id": "ffbf36ccf71148eb88d780241174aa74",
       "version_major": 2,
       "version_minor": 0
      },
      "text/plain": [
       "Training:   0%|          | 0/937 [00:00<?, ?it/s]"
      ]
     },
     "metadata": {},
     "output_type": "display_data"
    },
    {
     "name": "stdout",
     "output_type": "stream",
     "text": [
      "Epoch 26, Step 100, Loss: 3.8047\n",
      "Epoch 26, Step 200, Loss: 3.8148\n",
      "Epoch 26, Step 300, Loss: 4.0124\n",
      "Epoch 26, Step 400, Loss: 3.8511\n",
      "Epoch 26, Step 500, Loss: 3.6483\n",
      "Epoch 26, Step 600, Loss: 3.9846\n",
      "Epoch 26, Step 700, Loss: 3.9333\n",
      "Epoch 26, Step 800, Loss: 3.8694\n",
      "Epoch 26, Step 900, Loss: 3.8338\n",
      "Epoch 26 completed. Average Loss: 3.8632\n"
     ]
    },
    {
     "data": {
      "application/vnd.jupyter.widget-view+json": {
       "model_id": "b7667bf4fe4e407487e40cc5efe1c0af",
       "version_major": 2,
       "version_minor": 0
      },
      "text/plain": [
       "Training:   0%|          | 0/937 [00:00<?, ?it/s]"
      ]
     },
     "metadata": {},
     "output_type": "display_data"
    },
    {
     "name": "stdout",
     "output_type": "stream",
     "text": [
      "Epoch 27, Step 100, Loss: 3.9107\n",
      "Epoch 27, Step 200, Loss: 3.7406\n",
      "Epoch 27, Step 300, Loss: 3.7076\n",
      "Epoch 27, Step 400, Loss: 3.7532\n",
      "Epoch 27, Step 500, Loss: 4.0200\n",
      "Epoch 27, Step 600, Loss: 3.8758\n",
      "Epoch 27, Step 700, Loss: 3.9770\n",
      "Epoch 27, Step 800, Loss: 3.6565\n",
      "Epoch 27, Step 900, Loss: 3.8665\n",
      "Epoch 27 completed. Average Loss: 3.8463\n"
     ]
    },
    {
     "data": {
      "application/vnd.jupyter.widget-view+json": {
       "model_id": "e69010dcf1594198a374c8fea019fced",
       "version_major": 2,
       "version_minor": 0
      },
      "text/plain": [
       "Training:   0%|          | 0/937 [00:00<?, ?it/s]"
      ]
     },
     "metadata": {},
     "output_type": "display_data"
    },
    {
     "name": "stdout",
     "output_type": "stream",
     "text": [
      "Epoch 28, Step 100, Loss: 3.6809\n",
      "Epoch 28, Step 200, Loss: 3.8856\n",
      "Epoch 28, Step 300, Loss: 3.8670\n",
      "Epoch 28, Step 400, Loss: 3.7417\n",
      "Epoch 28, Step 500, Loss: 3.8144\n",
      "Epoch 28, Step 600, Loss: 3.8754\n",
      "Epoch 28, Step 700, Loss: 3.8112\n",
      "Epoch 28, Step 800, Loss: 3.7457\n",
      "Epoch 28, Step 900, Loss: 3.9063\n",
      "Epoch 28 completed. Average Loss: 3.8320\n"
     ]
    },
    {
     "data": {
      "application/vnd.jupyter.widget-view+json": {
       "model_id": "b9b8ebf4cb1f43ccaea252b74a73ae16",
       "version_major": 2,
       "version_minor": 0
      },
      "text/plain": [
       "Training:   0%|          | 0/937 [00:00<?, ?it/s]"
      ]
     },
     "metadata": {},
     "output_type": "display_data"
    },
    {
     "name": "stdout",
     "output_type": "stream",
     "text": [
      "Epoch 29, Step 100, Loss: 3.7287\n",
      "Epoch 29, Step 200, Loss: 3.7228\n",
      "Epoch 29, Step 300, Loss: 3.5638\n",
      "Epoch 29, Step 400, Loss: 3.9317\n",
      "Epoch 29, Step 500, Loss: 3.7567\n",
      "Epoch 29, Step 600, Loss: 3.8004\n",
      "Epoch 29, Step 700, Loss: 3.8147\n",
      "Epoch 29, Step 800, Loss: 3.9825\n",
      "Epoch 29, Step 900, Loss: 3.6847\n",
      "Epoch 29 completed. Average Loss: 3.8174\n"
     ]
    },
    {
     "data": {
      "application/vnd.jupyter.widget-view+json": {
       "model_id": "5319702bfe194788b03de16fc78c38a0",
       "version_major": 2,
       "version_minor": 0
      },
      "text/plain": [
       "Training:   0%|          | 0/937 [00:00<?, ?it/s]"
      ]
     },
     "metadata": {},
     "output_type": "display_data"
    },
    {
     "name": "stdout",
     "output_type": "stream",
     "text": [
      "Epoch 30, Step 100, Loss: 3.6830\n",
      "Epoch 30, Step 200, Loss: 3.7522\n",
      "Epoch 30, Step 300, Loss: 3.8279\n",
      "Epoch 30, Step 400, Loss: 3.8449\n",
      "Epoch 30, Step 500, Loss: 3.7465\n",
      "Epoch 30, Step 600, Loss: 3.8062\n",
      "Epoch 30, Step 700, Loss: 3.5879\n",
      "Epoch 30, Step 800, Loss: 3.8196\n",
      "Epoch 30, Step 900, Loss: 3.7850\n",
      "Epoch 30 completed. Average Loss: 3.8024\n"
     ]
    },
    {
     "data": {
      "application/vnd.jupyter.widget-view+json": {
       "model_id": "c0436373ce61448fa45a0b171c25b054",
       "version_major": 2,
       "version_minor": 0
      },
      "text/plain": [
       "Training:   0%|          | 0/937 [00:00<?, ?it/s]"
      ]
     },
     "metadata": {},
     "output_type": "display_data"
    },
    {
     "name": "stdout",
     "output_type": "stream",
     "text": [
      "Epoch 31, Step 100, Loss: 3.8014\n",
      "Epoch 31, Step 200, Loss: 3.7266\n",
      "Epoch 31, Step 300, Loss: 3.7430\n",
      "Epoch 31, Step 400, Loss: 3.7254\n",
      "Epoch 31, Step 500, Loss: 3.5940\n",
      "Epoch 31, Step 600, Loss: 3.8418\n",
      "Epoch 31, Step 700, Loss: 3.8892\n",
      "Epoch 31, Step 800, Loss: 3.7283\n",
      "Epoch 31, Step 900, Loss: 3.8645\n",
      "Epoch 31 completed. Average Loss: 3.7869\n"
     ]
    },
    {
     "data": {
      "application/vnd.jupyter.widget-view+json": {
       "model_id": "b40d6d50ed824be9be4b8f7f6c394b28",
       "version_major": 2,
       "version_minor": 0
      },
      "text/plain": [
       "Training:   0%|          | 0/937 [00:00<?, ?it/s]"
      ]
     },
     "metadata": {},
     "output_type": "display_data"
    },
    {
     "name": "stdout",
     "output_type": "stream",
     "text": [
      "Epoch 32, Step 100, Loss: 3.7261\n",
      "Epoch 32, Step 200, Loss: 3.6247\n",
      "Epoch 32, Step 300, Loss: 3.7151\n",
      "Epoch 32, Step 400, Loss: 3.5933\n",
      "Epoch 32, Step 500, Loss: 3.6745\n",
      "Epoch 32, Step 600, Loss: 3.8298\n",
      "Epoch 32, Step 700, Loss: 3.8519\n",
      "Epoch 32, Step 800, Loss: 3.8582\n",
      "Epoch 32, Step 900, Loss: 3.7321\n",
      "Epoch 32 completed. Average Loss: 3.7724\n"
     ]
    },
    {
     "data": {
      "application/vnd.jupyter.widget-view+json": {
       "model_id": "6c70ae8191a84b01858d9f8002e60279",
       "version_major": 2,
       "version_minor": 0
      },
      "text/plain": [
       "Training:   0%|          | 0/937 [00:00<?, ?it/s]"
      ]
     },
     "metadata": {},
     "output_type": "display_data"
    },
    {
     "name": "stdout",
     "output_type": "stream",
     "text": [
      "Epoch 33, Step 100, Loss: 3.8860\n",
      "Epoch 33, Step 200, Loss: 3.7053\n",
      "Epoch 33, Step 300, Loss: 3.8289\n",
      "Epoch 33, Step 400, Loss: 3.7720\n",
      "Epoch 33, Step 500, Loss: 3.8815\n",
      "Epoch 33, Step 600, Loss: 3.6864\n",
      "Epoch 33, Step 700, Loss: 3.6481\n",
      "Epoch 33, Step 800, Loss: 3.8335\n",
      "Epoch 33, Step 900, Loss: 3.7944\n",
      "Epoch 33 completed. Average Loss: 3.7588\n"
     ]
    },
    {
     "data": {
      "application/vnd.jupyter.widget-view+json": {
       "model_id": "90f92f7ffb304821b6c019b90fd56a44",
       "version_major": 2,
       "version_minor": 0
      },
      "text/plain": [
       "Training:   0%|          | 0/937 [00:00<?, ?it/s]"
      ]
     },
     "metadata": {},
     "output_type": "display_data"
    },
    {
     "name": "stdout",
     "output_type": "stream",
     "text": [
      "Epoch 34, Step 100, Loss: 3.7055\n",
      "Epoch 34, Step 200, Loss: 3.7428\n",
      "Epoch 34, Step 300, Loss: 3.6965\n",
      "Epoch 34, Step 400, Loss: 3.7163\n",
      "Epoch 34, Step 500, Loss: 3.9326\n",
      "Epoch 34, Step 600, Loss: 3.8632\n",
      "Epoch 34, Step 700, Loss: 3.7500\n",
      "Epoch 34, Step 800, Loss: 3.7199\n",
      "Epoch 34, Step 900, Loss: 3.8296\n",
      "Epoch 34 completed. Average Loss: 3.7452\n"
     ]
    },
    {
     "data": {
      "application/vnd.jupyter.widget-view+json": {
       "model_id": "56d8aa8dab6142609930e555eadd8fd1",
       "version_major": 2,
       "version_minor": 0
      },
      "text/plain": [
       "Training:   0%|          | 0/937 [00:00<?, ?it/s]"
      ]
     },
     "metadata": {},
     "output_type": "display_data"
    },
    {
     "name": "stdout",
     "output_type": "stream",
     "text": [
      "Epoch 35, Step 100, Loss: 3.7640\n",
      "Epoch 35, Step 200, Loss: 3.5691\n",
      "Epoch 35, Step 300, Loss: 3.6352\n",
      "Epoch 35, Step 400, Loss: 3.7740\n",
      "Epoch 35, Step 500, Loss: 3.5817\n",
      "Epoch 35, Step 600, Loss: 3.9366\n",
      "Epoch 35, Step 700, Loss: 3.8298\n",
      "Epoch 35, Step 800, Loss: 3.6183\n",
      "Epoch 35, Step 900, Loss: 3.7738\n",
      "Epoch 35 completed. Average Loss: 3.7324\n"
     ]
    },
    {
     "data": {
      "application/vnd.jupyter.widget-view+json": {
       "model_id": "636eb31f6bde44ac9f63dafde8ac60c0",
       "version_major": 2,
       "version_minor": 0
      },
      "text/plain": [
       "Training:   0%|          | 0/937 [00:00<?, ?it/s]"
      ]
     },
     "metadata": {},
     "output_type": "display_data"
    },
    {
     "name": "stdout",
     "output_type": "stream",
     "text": [
      "Epoch 36, Step 100, Loss: 3.7023\n",
      "Epoch 36, Step 200, Loss: 3.7149\n",
      "Epoch 36, Step 300, Loss: 3.8617\n",
      "Epoch 36, Step 400, Loss: 3.8536\n",
      "Epoch 36, Step 500, Loss: 3.6596\n",
      "Epoch 36, Step 600, Loss: 3.6499\n",
      "Epoch 36, Step 700, Loss: 3.6180\n",
      "Epoch 36, Step 800, Loss: 3.8058\n",
      "Epoch 36, Step 900, Loss: 3.8227\n",
      "Epoch 36 completed. Average Loss: 3.7177\n"
     ]
    },
    {
     "data": {
      "application/vnd.jupyter.widget-view+json": {
       "model_id": "154060838c624754aedf57a4a908a51a",
       "version_major": 2,
       "version_minor": 0
      },
      "text/plain": [
       "Training:   0%|          | 0/937 [00:00<?, ?it/s]"
      ]
     },
     "metadata": {},
     "output_type": "display_data"
    },
    {
     "name": "stdout",
     "output_type": "stream",
     "text": [
      "Epoch 37, Step 100, Loss: 3.6871\n",
      "Epoch 37, Step 200, Loss: 3.6497\n",
      "Epoch 37, Step 300, Loss: 3.8645\n",
      "Epoch 37, Step 400, Loss: 3.6579\n",
      "Epoch 37, Step 500, Loss: 3.7584\n",
      "Epoch 37, Step 600, Loss: 3.7806\n",
      "Epoch 37, Step 700, Loss: 3.7536\n",
      "Epoch 37, Step 800, Loss: 3.6994\n",
      "Epoch 37, Step 900, Loss: 3.6086\n",
      "Epoch 37 completed. Average Loss: 3.7069\n"
     ]
    },
    {
     "data": {
      "application/vnd.jupyter.widget-view+json": {
       "model_id": "ff16deb6e4a5471a9dc170f75d77bc7d",
       "version_major": 2,
       "version_minor": 0
      },
      "text/plain": [
       "Training:   0%|          | 0/937 [00:00<?, ?it/s]"
      ]
     },
     "metadata": {},
     "output_type": "display_data"
    },
    {
     "name": "stdout",
     "output_type": "stream",
     "text": [
      "Epoch 38, Step 100, Loss: 3.7026\n",
      "Epoch 38, Step 200, Loss: 3.6754\n",
      "Epoch 38, Step 300, Loss: 3.6722\n",
      "Epoch 38, Step 400, Loss: 3.6677\n",
      "Epoch 38, Step 500, Loss: 3.6672\n",
      "Epoch 38, Step 600, Loss: 3.6440\n",
      "Epoch 38, Step 700, Loss: 3.7454\n",
      "Epoch 38, Step 800, Loss: 3.6089\n",
      "Epoch 38, Step 900, Loss: 3.7469\n",
      "Epoch 38 completed. Average Loss: 3.6925\n"
     ]
    },
    {
     "data": {
      "application/vnd.jupyter.widget-view+json": {
       "model_id": "31255ad080a242e29c7cf5402710b46c",
       "version_major": 2,
       "version_minor": 0
      },
      "text/plain": [
       "Training:   0%|          | 0/937 [00:00<?, ?it/s]"
      ]
     },
     "metadata": {},
     "output_type": "display_data"
    },
    {
     "name": "stdout",
     "output_type": "stream",
     "text": [
      "Epoch 39, Step 100, Loss: 3.8094\n",
      "Epoch 39, Step 200, Loss: 3.6073\n",
      "Epoch 39, Step 300, Loss: 3.6558\n",
      "Epoch 39, Step 400, Loss: 3.7074\n",
      "Epoch 39, Step 500, Loss: 3.5303\n",
      "Epoch 39, Step 600, Loss: 3.7083\n",
      "Epoch 39, Step 700, Loss: 3.8314\n",
      "Epoch 39, Step 800, Loss: 3.6676\n",
      "Epoch 39, Step 900, Loss: 3.6459\n",
      "Epoch 39 completed. Average Loss: 3.6814\n"
     ]
    },
    {
     "data": {
      "application/vnd.jupyter.widget-view+json": {
       "model_id": "9f2f33e9cda24362beae48205a176f9e",
       "version_major": 2,
       "version_minor": 0
      },
      "text/plain": [
       "Training:   0%|          | 0/937 [00:00<?, ?it/s]"
      ]
     },
     "metadata": {},
     "output_type": "display_data"
    },
    {
     "name": "stdout",
     "output_type": "stream",
     "text": [
      "Epoch 40, Step 100, Loss: 3.6287\n",
      "Epoch 40, Step 200, Loss: 3.6288\n",
      "Epoch 40, Step 300, Loss: 3.7125\n",
      "Epoch 40, Step 400, Loss: 3.5949\n",
      "Epoch 40, Step 500, Loss: 3.5818\n",
      "Epoch 40, Step 600, Loss: 3.6716\n",
      "Epoch 40, Step 700, Loss: 3.6829\n",
      "Epoch 40, Step 800, Loss: 3.6885\n",
      "Epoch 40, Step 900, Loss: 3.7345\n",
      "Epoch 40 completed. Average Loss: 3.6690\n"
     ]
    },
    {
     "data": {
      "application/vnd.jupyter.widget-view+json": {
       "model_id": "0118cd6ef7b34161bb9e80d4360aec20",
       "version_major": 2,
       "version_minor": 0
      },
      "text/plain": [
       "Training:   0%|          | 0/937 [00:00<?, ?it/s]"
      ]
     },
     "metadata": {},
     "output_type": "display_data"
    },
    {
     "name": "stdout",
     "output_type": "stream",
     "text": [
      "Epoch 41, Step 100, Loss: 3.7241\n",
      "Epoch 41, Step 200, Loss: 3.4371\n",
      "Epoch 41, Step 300, Loss: 3.5633\n",
      "Epoch 41, Step 400, Loss: 3.5450\n",
      "Epoch 41, Step 500, Loss: 3.7510\n",
      "Epoch 41, Step 600, Loss: 3.7097\n",
      "Epoch 41, Step 700, Loss: 3.6989\n",
      "Epoch 41, Step 800, Loss: 3.5273\n",
      "Epoch 41, Step 900, Loss: 3.8256\n",
      "Epoch 41 completed. Average Loss: 3.6572\n"
     ]
    },
    {
     "data": {
      "application/vnd.jupyter.widget-view+json": {
       "model_id": "70744848ee42481db2a5a5a2259c4d46",
       "version_major": 2,
       "version_minor": 0
      },
      "text/plain": [
       "Training:   0%|          | 0/937 [00:00<?, ?it/s]"
      ]
     },
     "metadata": {},
     "output_type": "display_data"
    },
    {
     "name": "stdout",
     "output_type": "stream",
     "text": [
      "Epoch 42, Step 100, Loss: 3.6048\n",
      "Epoch 42, Step 200, Loss: 3.5122\n",
      "Epoch 42, Step 300, Loss: 3.6017\n",
      "Epoch 42, Step 400, Loss: 3.8150\n",
      "Epoch 42, Step 500, Loss: 3.6670\n",
      "Epoch 42, Step 600, Loss: 3.8251\n",
      "Epoch 42, Step 700, Loss: 3.7234\n",
      "Epoch 42, Step 800, Loss: 3.6445\n",
      "Epoch 42, Step 900, Loss: 3.5717\n",
      "Epoch 42 completed. Average Loss: 3.6478\n"
     ]
    },
    {
     "data": {
      "application/vnd.jupyter.widget-view+json": {
       "model_id": "dedda83ce31c4c14b48172d7511047bf",
       "version_major": 2,
       "version_minor": 0
      },
      "text/plain": [
       "Training:   0%|          | 0/937 [00:00<?, ?it/s]"
      ]
     },
     "metadata": {},
     "output_type": "display_data"
    },
    {
     "name": "stdout",
     "output_type": "stream",
     "text": [
      "Epoch 43, Step 100, Loss: 3.7545\n",
      "Epoch 43, Step 200, Loss: 3.5681\n",
      "Epoch 43, Step 300, Loss: 3.6909\n",
      "Epoch 43, Step 400, Loss: 3.5603\n",
      "Epoch 43, Step 500, Loss: 3.5988\n",
      "Epoch 43, Step 600, Loss: 3.7511\n",
      "Epoch 43, Step 700, Loss: 3.7555\n",
      "Epoch 43, Step 800, Loss: 3.6890\n",
      "Epoch 43, Step 900, Loss: 3.6749\n",
      "Epoch 43 completed. Average Loss: 3.6345\n"
     ]
    },
    {
     "data": {
      "application/vnd.jupyter.widget-view+json": {
       "model_id": "1bc53f9df7e2423ab86d7527e4a1a305",
       "version_major": 2,
       "version_minor": 0
      },
      "text/plain": [
       "Training:   0%|          | 0/937 [00:00<?, ?it/s]"
      ]
     },
     "metadata": {},
     "output_type": "display_data"
    },
    {
     "name": "stdout",
     "output_type": "stream",
     "text": [
      "Epoch 44, Step 100, Loss: 3.6276\n",
      "Epoch 44, Step 200, Loss: 3.6565\n",
      "Epoch 44, Step 300, Loss: 3.7417\n",
      "Epoch 44, Step 400, Loss: 3.6515\n",
      "Epoch 44, Step 500, Loss: 3.6008\n",
      "Epoch 44, Step 600, Loss: 3.5678\n",
      "Epoch 44, Step 700, Loss: 3.6659\n",
      "Epoch 44, Step 800, Loss: 3.6735\n",
      "Epoch 44, Step 900, Loss: 3.6208\n",
      "Epoch 44 completed. Average Loss: 3.6227\n"
     ]
    },
    {
     "data": {
      "application/vnd.jupyter.widget-view+json": {
       "model_id": "f15aa96e8e1244cd8ac6e50cb5690003",
       "version_major": 2,
       "version_minor": 0
      },
      "text/plain": [
       "Training:   0%|          | 0/937 [00:00<?, ?it/s]"
      ]
     },
     "metadata": {},
     "output_type": "display_data"
    },
    {
     "name": "stdout",
     "output_type": "stream",
     "text": [
      "Epoch 45, Step 100, Loss: 3.6425\n",
      "Epoch 45, Step 200, Loss: 3.5177\n",
      "Epoch 45, Step 300, Loss: 3.6023\n",
      "Epoch 45, Step 400, Loss: 3.6216\n",
      "Epoch 45, Step 500, Loss: 3.6113\n",
      "Epoch 45, Step 600, Loss: 3.5520\n",
      "Epoch 45, Step 700, Loss: 3.6390\n",
      "Epoch 45, Step 800, Loss: 3.5940\n",
      "Epoch 45, Step 900, Loss: 3.6321\n",
      "Epoch 45 completed. Average Loss: 3.6128\n"
     ]
    },
    {
     "data": {
      "application/vnd.jupyter.widget-view+json": {
       "model_id": "4b8e0f773c404f018b607befab7b813a",
       "version_major": 2,
       "version_minor": 0
      },
      "text/plain": [
       "Training:   0%|          | 0/937 [00:00<?, ?it/s]"
      ]
     },
     "metadata": {},
     "output_type": "display_data"
    },
    {
     "name": "stdout",
     "output_type": "stream",
     "text": [
      "Epoch 46, Step 100, Loss: 3.5005\n",
      "Epoch 46, Step 200, Loss: 3.6391\n",
      "Epoch 46, Step 300, Loss: 3.6186\n",
      "Epoch 46, Step 400, Loss: 3.5472\n",
      "Epoch 46, Step 500, Loss: 3.7438\n",
      "Epoch 46, Step 600, Loss: 3.6065\n",
      "Epoch 46, Step 700, Loss: 3.6558\n",
      "Epoch 46, Step 800, Loss: 3.5805\n",
      "Epoch 46, Step 900, Loss: 3.7071\n",
      "Epoch 46 completed. Average Loss: 3.6020\n"
     ]
    },
    {
     "data": {
      "application/vnd.jupyter.widget-view+json": {
       "model_id": "68b96bb0f9fd47679f62c173d9c37e52",
       "version_major": 2,
       "version_minor": 0
      },
      "text/plain": [
       "Training:   0%|          | 0/937 [00:00<?, ?it/s]"
      ]
     },
     "metadata": {},
     "output_type": "display_data"
    },
    {
     "name": "stdout",
     "output_type": "stream",
     "text": [
      "Epoch 47, Step 100, Loss: 3.6513\n",
      "Epoch 47, Step 200, Loss: 3.5913\n",
      "Epoch 47, Step 300, Loss: 3.6758\n",
      "Epoch 47, Step 400, Loss: 3.5551\n",
      "Epoch 47, Step 500, Loss: 3.8516\n",
      "Epoch 47, Step 600, Loss: 3.5608\n",
      "Epoch 47, Step 700, Loss: 3.5592\n",
      "Epoch 47, Step 800, Loss: 3.6122\n",
      "Epoch 47, Step 900, Loss: 3.8000\n",
      "Epoch 47 completed. Average Loss: 3.5918\n"
     ]
    },
    {
     "data": {
      "application/vnd.jupyter.widget-view+json": {
       "model_id": "013299de7bd34f7b843ac428615a248f",
       "version_major": 2,
       "version_minor": 0
      },
      "text/plain": [
       "Training:   0%|          | 0/937 [00:00<?, ?it/s]"
      ]
     },
     "metadata": {},
     "output_type": "display_data"
    },
    {
     "name": "stdout",
     "output_type": "stream",
     "text": [
      "Epoch 48, Step 100, Loss: 3.5814\n",
      "Epoch 48, Step 200, Loss: 3.7005\n",
      "Epoch 48, Step 300, Loss: 3.5191\n",
      "Epoch 48, Step 400, Loss: 3.4814\n",
      "Epoch 48, Step 500, Loss: 3.5557\n",
      "Epoch 48, Step 600, Loss: 3.6241\n",
      "Epoch 48, Step 700, Loss: 3.5251\n",
      "Epoch 48, Step 800, Loss: 3.6264\n",
      "Epoch 48, Step 900, Loss: 3.5594\n",
      "Epoch 48 completed. Average Loss: 3.5818\n"
     ]
    },
    {
     "data": {
      "application/vnd.jupyter.widget-view+json": {
       "model_id": "7dc52abb0a2e4cbcb510612cd8523f1e",
       "version_major": 2,
       "version_minor": 0
      },
      "text/plain": [
       "Training:   0%|          | 0/937 [00:00<?, ?it/s]"
      ]
     },
     "metadata": {},
     "output_type": "display_data"
    },
    {
     "name": "stdout",
     "output_type": "stream",
     "text": [
      "Epoch 49, Step 100, Loss: 3.6225\n",
      "Epoch 49, Step 200, Loss: 3.6187\n",
      "Epoch 49, Step 300, Loss: 3.6254\n",
      "Epoch 49, Step 400, Loss: 3.4575\n",
      "Epoch 49, Step 500, Loss: 3.6082\n",
      "Epoch 49, Step 600, Loss: 3.6075\n",
      "Epoch 49, Step 700, Loss: 3.6885\n",
      "Epoch 49, Step 800, Loss: 3.5588\n",
      "Epoch 49, Step 900, Loss: 3.5438\n",
      "Epoch 49 completed. Average Loss: 3.5725\n"
     ]
    },
    {
     "data": {
      "application/vnd.jupyter.widget-view+json": {
       "model_id": "fb0c62ef79a3423296b45b815a88d0d5",
       "version_major": 2,
       "version_minor": 0
      },
      "text/plain": [
       "Training:   0%|          | 0/937 [00:00<?, ?it/s]"
      ]
     },
     "metadata": {},
     "output_type": "display_data"
    },
    {
     "name": "stdout",
     "output_type": "stream",
     "text": [
      "Epoch 50, Step 100, Loss: 3.4613\n",
      "Epoch 50, Step 200, Loss: 3.5940\n",
      "Epoch 50, Step 300, Loss: 3.6205\n",
      "Epoch 50, Step 400, Loss: 3.4828\n",
      "Epoch 50, Step 500, Loss: 3.6431\n",
      "Epoch 50, Step 600, Loss: 3.7140\n",
      "Epoch 50, Step 700, Loss: 3.5761\n",
      "Epoch 50, Step 800, Loss: 3.6805\n",
      "Epoch 50, Step 900, Loss: 3.6218\n",
      "Epoch 50 completed. Average Loss: 3.5619\n"
     ]
    },
    {
     "data": {
      "application/vnd.jupyter.widget-view+json": {
       "model_id": "3e98770b7aa94aac97e739e61803404d",
       "version_major": 2,
       "version_minor": 0
      },
      "text/plain": [
       "Training:   0%|          | 0/937 [00:00<?, ?it/s]"
      ]
     },
     "metadata": {},
     "output_type": "display_data"
    },
    {
     "name": "stdout",
     "output_type": "stream",
     "text": [
      "Epoch 51, Step 100, Loss: 3.5141\n",
      "Epoch 51, Step 200, Loss: 3.5397\n",
      "Epoch 51, Step 300, Loss: 3.4516\n",
      "Epoch 51, Step 400, Loss: 3.5650\n",
      "Epoch 51, Step 500, Loss: 3.5614\n",
      "Epoch 51, Step 600, Loss: 3.5328\n",
      "Epoch 51, Step 700, Loss: 3.5309\n",
      "Epoch 51, Step 800, Loss: 3.4980\n",
      "Epoch 51, Step 900, Loss: 3.5983\n",
      "Epoch 51 completed. Average Loss: 3.5509\n"
     ]
    },
    {
     "data": {
      "application/vnd.jupyter.widget-view+json": {
       "model_id": "22732c76ec1d4536b902fa537035edcc",
       "version_major": 2,
       "version_minor": 0
      },
      "text/plain": [
       "Training:   0%|          | 0/937 [00:00<?, ?it/s]"
      ]
     },
     "metadata": {},
     "output_type": "display_data"
    },
    {
     "name": "stdout",
     "output_type": "stream",
     "text": [
      "Epoch 52, Step 100, Loss: 3.6014\n",
      "Epoch 52, Step 200, Loss: 3.5371\n",
      "Epoch 52, Step 300, Loss: 3.4060\n",
      "Epoch 52, Step 400, Loss: 3.4184\n",
      "Epoch 52, Step 500, Loss: 3.4569\n",
      "Epoch 52, Step 600, Loss: 3.6199\n",
      "Epoch 52, Step 700, Loss: 3.4843\n",
      "Epoch 52, Step 800, Loss: 3.4764\n",
      "Epoch 52, Step 900, Loss: 3.5050\n",
      "Epoch 52 completed. Average Loss: 3.5432\n"
     ]
    },
    {
     "data": {
      "application/vnd.jupyter.widget-view+json": {
       "model_id": "f2bb18c9f8f44617917ec2dc63d54873",
       "version_major": 2,
       "version_minor": 0
      },
      "text/plain": [
       "Training:   0%|          | 0/937 [00:00<?, ?it/s]"
      ]
     },
     "metadata": {},
     "output_type": "display_data"
    },
    {
     "name": "stdout",
     "output_type": "stream",
     "text": [
      "Epoch 53, Step 100, Loss: 3.3920\n",
      "Epoch 53, Step 200, Loss: 3.4491\n",
      "Epoch 53, Step 300, Loss: 3.5011\n",
      "Epoch 53, Step 400, Loss: 3.5134\n",
      "Epoch 53, Step 500, Loss: 3.5179\n",
      "Epoch 53, Step 600, Loss: 3.4103\n",
      "Epoch 53, Step 700, Loss: 3.6166\n",
      "Epoch 53, Step 800, Loss: 3.6002\n",
      "Epoch 53, Step 900, Loss: 3.6091\n",
      "Epoch 53 completed. Average Loss: 3.5300\n"
     ]
    },
    {
     "data": {
      "application/vnd.jupyter.widget-view+json": {
       "model_id": "c34ec25664ad4b278653055d1ef5f80b",
       "version_major": 2,
       "version_minor": 0
      },
      "text/plain": [
       "Training:   0%|          | 0/937 [00:00<?, ?it/s]"
      ]
     },
     "metadata": {},
     "output_type": "display_data"
    },
    {
     "name": "stdout",
     "output_type": "stream",
     "text": [
      "Epoch 54, Step 100, Loss: 3.3569\n",
      "Epoch 54, Step 200, Loss: 3.5182\n",
      "Epoch 54, Step 300, Loss: 3.6195\n",
      "Epoch 54, Step 400, Loss: 3.5432\n",
      "Epoch 54, Step 500, Loss: 3.4540\n",
      "Epoch 54, Step 600, Loss: 3.4412\n",
      "Epoch 54, Step 700, Loss: 3.5687\n",
      "Epoch 54, Step 800, Loss: 3.7149\n",
      "Epoch 54, Step 900, Loss: 3.5169\n",
      "Epoch 54 completed. Average Loss: 3.5235\n"
     ]
    },
    {
     "data": {
      "application/vnd.jupyter.widget-view+json": {
       "model_id": "e2d4c6346fc7435fb97ad847abd05bf7",
       "version_major": 2,
       "version_minor": 0
      },
      "text/plain": [
       "Training:   0%|          | 0/937 [00:00<?, ?it/s]"
      ]
     },
     "metadata": {},
     "output_type": "display_data"
    },
    {
     "name": "stdout",
     "output_type": "stream",
     "text": [
      "Epoch 55, Step 100, Loss: 3.4994\n",
      "Epoch 55, Step 200, Loss: 3.5410\n",
      "Epoch 55, Step 300, Loss: 3.5409\n",
      "Epoch 55, Step 400, Loss: 3.5578\n",
      "Epoch 55, Step 500, Loss: 3.5180\n",
      "Epoch 55, Step 600, Loss: 3.5685\n",
      "Epoch 55, Step 700, Loss: 3.6501\n",
      "Epoch 55, Step 800, Loss: 3.5115\n",
      "Epoch 55, Step 900, Loss: 3.5712\n",
      "Epoch 55 completed. Average Loss: 3.5150\n"
     ]
    },
    {
     "data": {
      "application/vnd.jupyter.widget-view+json": {
       "model_id": "492c437fd3ca4e35a7d94de2662a1c19",
       "version_major": 2,
       "version_minor": 0
      },
      "text/plain": [
       "Training:   0%|          | 0/937 [00:00<?, ?it/s]"
      ]
     },
     "metadata": {},
     "output_type": "display_data"
    },
    {
     "name": "stdout",
     "output_type": "stream",
     "text": [
      "Epoch 56, Step 100, Loss: 3.4142\n",
      "Epoch 56, Step 200, Loss: 3.5570\n",
      "Epoch 56, Step 300, Loss: 3.4148\n",
      "Epoch 56, Step 400, Loss: 3.6720\n",
      "Epoch 56, Step 500, Loss: 3.5382\n",
      "Epoch 56, Step 600, Loss: 3.4150\n",
      "Epoch 56, Step 700, Loss: 3.4449\n",
      "Epoch 56, Step 800, Loss: 3.5667\n",
      "Epoch 56, Step 900, Loss: 3.7079\n",
      "Epoch 56 completed. Average Loss: 3.5057\n"
     ]
    },
    {
     "data": {
      "application/vnd.jupyter.widget-view+json": {
       "model_id": "f7c97845b08a4a92b3bf2601c92be60c",
       "version_major": 2,
       "version_minor": 0
      },
      "text/plain": [
       "Training:   0%|          | 0/937 [00:00<?, ?it/s]"
      ]
     },
     "metadata": {},
     "output_type": "display_data"
    },
    {
     "name": "stdout",
     "output_type": "stream",
     "text": [
      "Epoch 57, Step 100, Loss: 3.4633\n",
      "Epoch 57, Step 200, Loss: 3.3088\n",
      "Epoch 57, Step 300, Loss: 3.5048\n",
      "Epoch 57, Step 400, Loss: 3.6084\n",
      "Epoch 57, Step 500, Loss: 3.5271\n",
      "Epoch 57, Step 600, Loss: 3.5133\n",
      "Epoch 57, Step 700, Loss: 3.5581\n",
      "Epoch 57, Step 800, Loss: 3.4274\n",
      "Epoch 57, Step 900, Loss: 3.5072\n",
      "Epoch 57 completed. Average Loss: 3.4978\n"
     ]
    },
    {
     "data": {
      "application/vnd.jupyter.widget-view+json": {
       "model_id": "059432c9724b4b11957efdfa1676d313",
       "version_major": 2,
       "version_minor": 0
      },
      "text/plain": [
       "Training:   0%|          | 0/937 [00:00<?, ?it/s]"
      ]
     },
     "metadata": {},
     "output_type": "display_data"
    },
    {
     "name": "stdout",
     "output_type": "stream",
     "text": [
      "Epoch 58, Step 100, Loss: 3.5012\n",
      "Epoch 58, Step 200, Loss: 3.3774\n",
      "Epoch 58, Step 300, Loss: 3.5580\n",
      "Epoch 58, Step 400, Loss: 3.5737\n",
      "Epoch 58, Step 500, Loss: 3.4687\n",
      "Epoch 58, Step 600, Loss: 3.6037\n",
      "Epoch 58, Step 700, Loss: 3.4616\n",
      "Epoch 58, Step 800, Loss: 3.4706\n",
      "Epoch 58, Step 900, Loss: 3.7048\n",
      "Epoch 58 completed. Average Loss: 3.4879\n"
     ]
    },
    {
     "data": {
      "application/vnd.jupyter.widget-view+json": {
       "model_id": "5e30dc32156d41d0bfba56433c42df1d",
       "version_major": 2,
       "version_minor": 0
      },
      "text/plain": [
       "Training:   0%|          | 0/937 [00:00<?, ?it/s]"
      ]
     },
     "metadata": {},
     "output_type": "display_data"
    },
    {
     "name": "stdout",
     "output_type": "stream",
     "text": [
      "Epoch 59, Step 100, Loss: 3.5300\n",
      "Epoch 59, Step 200, Loss: 3.4794\n",
      "Epoch 59, Step 300, Loss: 3.4710\n",
      "Epoch 59, Step 400, Loss: 3.5294\n",
      "Epoch 59, Step 500, Loss: 3.5148\n",
      "Epoch 59, Step 600, Loss: 3.4797\n",
      "Epoch 59, Step 700, Loss: 3.5230\n",
      "Epoch 59, Step 800, Loss: 3.5646\n",
      "Epoch 59, Step 900, Loss: 3.3725\n",
      "Epoch 59 completed. Average Loss: 3.4797\n"
     ]
    },
    {
     "data": {
      "application/vnd.jupyter.widget-view+json": {
       "model_id": "573507d9b1194cac818e1c15c2865bf7",
       "version_major": 2,
       "version_minor": 0
      },
      "text/plain": [
       "Training:   0%|          | 0/937 [00:00<?, ?it/s]"
      ]
     },
     "metadata": {},
     "output_type": "display_data"
    },
    {
     "name": "stdout",
     "output_type": "stream",
     "text": [
      "Epoch 60, Step 100, Loss: 3.2972\n",
      "Epoch 60, Step 200, Loss: 3.4961\n",
      "Epoch 60, Step 300, Loss: 3.4990\n",
      "Epoch 60, Step 400, Loss: 3.5404\n",
      "Epoch 60, Step 500, Loss: 3.4818\n",
      "Epoch 60, Step 600, Loss: 3.1145\n",
      "Epoch 60, Step 700, Loss: 3.4910\n",
      "Epoch 60, Step 800, Loss: 3.5150\n",
      "Epoch 60, Step 900, Loss: 3.4903\n",
      "Epoch 60 completed. Average Loss: 3.4725\n"
     ]
    },
    {
     "data": {
      "application/vnd.jupyter.widget-view+json": {
       "model_id": "565def970aa74bcfb49a229ed06d6529",
       "version_major": 2,
       "version_minor": 0
      },
      "text/plain": [
       "Training:   0%|          | 0/937 [00:00<?, ?it/s]"
      ]
     },
     "metadata": {},
     "output_type": "display_data"
    },
    {
     "name": "stdout",
     "output_type": "stream",
     "text": [
      "Epoch 61, Step 100, Loss: 3.5304\n",
      "Epoch 61, Step 200, Loss: 3.3512\n",
      "Epoch 61, Step 300, Loss: 3.3975\n",
      "Epoch 61, Step 400, Loss: 3.4658\n",
      "Epoch 61, Step 500, Loss: 3.4852\n",
      "Epoch 61, Step 600, Loss: 3.4413\n",
      "Epoch 61, Step 700, Loss: 3.4824\n",
      "Epoch 61, Step 800, Loss: 3.4765\n",
      "Epoch 61, Step 900, Loss: 3.4591\n",
      "Epoch 61 completed. Average Loss: 3.4607\n"
     ]
    },
    {
     "data": {
      "application/vnd.jupyter.widget-view+json": {
       "model_id": "45220bed260d411db32ac1ecf2e709ac",
       "version_major": 2,
       "version_minor": 0
      },
      "text/plain": [
       "Training:   0%|          | 0/937 [00:00<?, ?it/s]"
      ]
     },
     "metadata": {},
     "output_type": "display_data"
    },
    {
     "name": "stdout",
     "output_type": "stream",
     "text": [
      "Epoch 62, Step 100, Loss: 3.5204\n",
      "Epoch 62, Step 200, Loss: 3.3539\n",
      "Epoch 62, Step 300, Loss: 3.4270\n",
      "Epoch 62, Step 400, Loss: 3.5011\n",
      "Epoch 62, Step 500, Loss: 3.4738\n",
      "Epoch 62, Step 600, Loss: 3.3427\n",
      "Epoch 62, Step 700, Loss: 3.5308\n",
      "Epoch 62, Step 800, Loss: 3.4807\n",
      "Epoch 62, Step 900, Loss: 3.5794\n",
      "Epoch 62 completed. Average Loss: 3.4540\n"
     ]
    },
    {
     "data": {
      "application/vnd.jupyter.widget-view+json": {
       "model_id": "ef9ab84078d342228fd9c50f5691d5c6",
       "version_major": 2,
       "version_minor": 0
      },
      "text/plain": [
       "Training:   0%|          | 0/937 [00:00<?, ?it/s]"
      ]
     },
     "metadata": {},
     "output_type": "display_data"
    },
    {
     "name": "stdout",
     "output_type": "stream",
     "text": [
      "Epoch 63, Step 100, Loss: 3.4705\n",
      "Epoch 63, Step 200, Loss: 3.5428\n",
      "Epoch 63, Step 300, Loss: 3.4627\n",
      "Epoch 63, Step 400, Loss: 3.4172\n",
      "Epoch 63, Step 500, Loss: 3.5991\n",
      "Epoch 63, Step 600, Loss: 3.5264\n",
      "Epoch 63, Step 700, Loss: 3.4439\n",
      "Epoch 63, Step 800, Loss: 3.4262\n",
      "Epoch 63, Step 900, Loss: 3.3178\n",
      "Epoch 63 completed. Average Loss: 3.4466\n"
     ]
    },
    {
     "data": {
      "application/vnd.jupyter.widget-view+json": {
       "model_id": "942c4017a96f4dc68a27e26a60a7a60a",
       "version_major": 2,
       "version_minor": 0
      },
      "text/plain": [
       "Training:   0%|          | 0/937 [00:00<?, ?it/s]"
      ]
     },
     "metadata": {},
     "output_type": "display_data"
    },
    {
     "name": "stdout",
     "output_type": "stream",
     "text": [
      "Epoch 64, Step 100, Loss: 3.3616\n",
      "Epoch 64, Step 200, Loss: 3.3029\n",
      "Epoch 64, Step 300, Loss: 3.4820\n",
      "Epoch 64, Step 400, Loss: 3.4249\n",
      "Epoch 64, Step 500, Loss: 3.5114\n",
      "Epoch 64, Step 600, Loss: 3.3527\n",
      "Epoch 64, Step 700, Loss: 3.5293\n",
      "Epoch 64, Step 800, Loss: 3.4721\n",
      "Epoch 64, Step 900, Loss: 3.4576\n",
      "Epoch 64 completed. Average Loss: 3.4390\n"
     ]
    },
    {
     "data": {
      "application/vnd.jupyter.widget-view+json": {
       "model_id": "d7e46e6a3eeb4dd7955f2e62925a5216",
       "version_major": 2,
       "version_minor": 0
      },
      "text/plain": [
       "Training:   0%|          | 0/937 [00:00<?, ?it/s]"
      ]
     },
     "metadata": {},
     "output_type": "display_data"
    },
    {
     "name": "stdout",
     "output_type": "stream",
     "text": [
      "Epoch 65, Step 100, Loss: 3.3372\n",
      "Epoch 65, Step 200, Loss: 3.4083\n",
      "Epoch 65, Step 300, Loss: 3.4246\n",
      "Epoch 65, Step 400, Loss: 3.5398\n",
      "Epoch 65, Step 500, Loss: 3.5764\n",
      "Epoch 65, Step 600, Loss: 3.4920\n",
      "Epoch 65, Step 700, Loss: 3.5715\n",
      "Epoch 65, Step 800, Loss: 3.2361\n",
      "Epoch 65, Step 900, Loss: 3.4503\n",
      "Epoch 65 completed. Average Loss: 3.4329\n"
     ]
    },
    {
     "data": {
      "application/vnd.jupyter.widget-view+json": {
       "model_id": "46380dcd5100482990201bbf7a2e1bca",
       "version_major": 2,
       "version_minor": 0
      },
      "text/plain": [
       "Training:   0%|          | 0/937 [00:00<?, ?it/s]"
      ]
     },
     "metadata": {},
     "output_type": "display_data"
    },
    {
     "name": "stdout",
     "output_type": "stream",
     "text": [
      "Epoch 66, Step 100, Loss: 3.3406\n",
      "Epoch 66, Step 200, Loss: 3.3404\n",
      "Epoch 66, Step 300, Loss: 3.2613\n",
      "Epoch 66, Step 400, Loss: 3.2700\n",
      "Epoch 66, Step 500, Loss: 3.4852\n",
      "Epoch 66, Step 600, Loss: 3.6047\n",
      "Epoch 66, Step 700, Loss: 3.5890\n",
      "Epoch 66, Step 800, Loss: 3.4495\n",
      "Epoch 66, Step 900, Loss: 3.5608\n",
      "Epoch 66 completed. Average Loss: 3.4249\n"
     ]
    },
    {
     "data": {
      "application/vnd.jupyter.widget-view+json": {
       "model_id": "2a7e04f95538440fbb5cc5b6005e319b",
       "version_major": 2,
       "version_minor": 0
      },
      "text/plain": [
       "Training:   0%|          | 0/937 [00:00<?, ?it/s]"
      ]
     },
     "metadata": {},
     "output_type": "display_data"
    },
    {
     "name": "stdout",
     "output_type": "stream",
     "text": [
      "Epoch 67, Step 100, Loss: 3.4779\n",
      "Epoch 67, Step 200, Loss: 3.3926\n",
      "Epoch 67, Step 300, Loss: 3.4746\n",
      "Epoch 67, Step 400, Loss: 3.4097\n",
      "Epoch 67, Step 500, Loss: 3.4774\n",
      "Epoch 67, Step 600, Loss: 3.3868\n",
      "Epoch 67, Step 700, Loss: 3.4581\n",
      "Epoch 67, Step 800, Loss: 3.4997\n",
      "Epoch 67, Step 900, Loss: 3.3697\n",
      "Epoch 67 completed. Average Loss: 3.4158\n"
     ]
    },
    {
     "data": {
      "application/vnd.jupyter.widget-view+json": {
       "model_id": "0bc439ff23d04a36be64a9d7dc96e5f1",
       "version_major": 2,
       "version_minor": 0
      },
      "text/plain": [
       "Training:   0%|          | 0/937 [00:00<?, ?it/s]"
      ]
     },
     "metadata": {},
     "output_type": "display_data"
    },
    {
     "name": "stdout",
     "output_type": "stream",
     "text": [
      "Epoch 68, Step 100, Loss: 3.4653\n",
      "Epoch 68, Step 200, Loss: 3.2794\n",
      "Epoch 68, Step 300, Loss: 3.4147\n",
      "Epoch 68, Step 400, Loss: 3.4756\n",
      "Epoch 68, Step 500, Loss: 3.3978\n",
      "Epoch 68, Step 600, Loss: 3.5100\n",
      "Epoch 68, Step 700, Loss: 3.4716\n",
      "Epoch 68, Step 800, Loss: 3.3546\n",
      "Epoch 68, Step 900, Loss: 3.5100\n",
      "Epoch 68 completed. Average Loss: 3.4090\n"
     ]
    },
    {
     "data": {
      "application/vnd.jupyter.widget-view+json": {
       "model_id": "16119a5e05c845c7bba168911ce53865",
       "version_major": 2,
       "version_minor": 0
      },
      "text/plain": [
       "Training:   0%|          | 0/937 [00:00<?, ?it/s]"
      ]
     },
     "metadata": {},
     "output_type": "display_data"
    },
    {
     "name": "stdout",
     "output_type": "stream",
     "text": [
      "Epoch 69, Step 100, Loss: 3.3338\n",
      "Epoch 69, Step 200, Loss: 3.3954\n",
      "Epoch 69, Step 300, Loss: 3.3670\n",
      "Epoch 69, Step 400, Loss: 3.2983\n",
      "Epoch 69, Step 500, Loss: 3.5505\n",
      "Epoch 69, Step 600, Loss: 3.3953\n",
      "Epoch 69, Step 700, Loss: 3.3606\n",
      "Epoch 69, Step 800, Loss: 3.4420\n",
      "Epoch 69, Step 900, Loss: 3.5085\n",
      "Epoch 69 completed. Average Loss: 3.4019\n"
     ]
    },
    {
     "data": {
      "application/vnd.jupyter.widget-view+json": {
       "model_id": "87c5fbcce13443d18b16e22b18fb69fb",
       "version_major": 2,
       "version_minor": 0
      },
      "text/plain": [
       "Training:   0%|          | 0/937 [00:00<?, ?it/s]"
      ]
     },
     "metadata": {},
     "output_type": "display_data"
    },
    {
     "name": "stdout",
     "output_type": "stream",
     "text": [
      "Epoch 70, Step 100, Loss: 3.3328\n",
      "Epoch 70, Step 200, Loss: 3.4329\n",
      "Epoch 70, Step 300, Loss: 3.4055\n",
      "Epoch 70, Step 400, Loss: 3.2682\n",
      "Epoch 70, Step 500, Loss: 3.5216\n",
      "Epoch 70, Step 600, Loss: 3.3541\n",
      "Epoch 70, Step 700, Loss: 3.2921\n",
      "Epoch 70, Step 800, Loss: 3.3633\n",
      "Epoch 70, Step 900, Loss: 3.3255\n",
      "Epoch 70 completed. Average Loss: 3.3935\n"
     ]
    },
    {
     "data": {
      "application/vnd.jupyter.widget-view+json": {
       "model_id": "d3dd202b8dff46f79d37665ace5234c6",
       "version_major": 2,
       "version_minor": 0
      },
      "text/plain": [
       "Training:   0%|          | 0/937 [00:00<?, ?it/s]"
      ]
     },
     "metadata": {},
     "output_type": "display_data"
    },
    {
     "name": "stdout",
     "output_type": "stream",
     "text": [
      "Epoch 71, Step 100, Loss: 3.4891\n",
      "Epoch 71, Step 200, Loss: 3.3616\n",
      "Epoch 71, Step 300, Loss: 3.2968\n",
      "Epoch 71, Step 400, Loss: 3.3045\n",
      "Epoch 71, Step 500, Loss: 3.4533\n",
      "Epoch 71, Step 600, Loss: 3.3488\n",
      "Epoch 71, Step 700, Loss: 3.3616\n",
      "Epoch 71, Step 800, Loss: 3.3752\n",
      "Epoch 71, Step 900, Loss: 3.4827\n",
      "Epoch 71 completed. Average Loss: 3.3872\n"
     ]
    },
    {
     "data": {
      "application/vnd.jupyter.widget-view+json": {
       "model_id": "7d64dd3ac5f4499caa7f1d51b5652465",
       "version_major": 2,
       "version_minor": 0
      },
      "text/plain": [
       "Training:   0%|          | 0/937 [00:00<?, ?it/s]"
      ]
     },
     "metadata": {},
     "output_type": "display_data"
    },
    {
     "name": "stdout",
     "output_type": "stream",
     "text": [
      "Epoch 72, Step 100, Loss: 3.2629\n",
      "Epoch 72, Step 200, Loss: 3.4170\n",
      "Epoch 72, Step 300, Loss: 3.4213\n",
      "Epoch 72, Step 400, Loss: 3.4266\n",
      "Epoch 72, Step 500, Loss: 3.4879\n",
      "Epoch 72, Step 600, Loss: 3.5375\n",
      "Epoch 72, Step 700, Loss: 3.3768\n",
      "Epoch 72, Step 800, Loss: 3.4361\n",
      "Epoch 72, Step 900, Loss: 3.2422\n",
      "Epoch 72 completed. Average Loss: 3.3819\n"
     ]
    },
    {
     "data": {
      "application/vnd.jupyter.widget-view+json": {
       "model_id": "3daa36a845054a8a87c78a17d8b5d6eb",
       "version_major": 2,
       "version_minor": 0
      },
      "text/plain": [
       "Training:   0%|          | 0/937 [00:00<?, ?it/s]"
      ]
     },
     "metadata": {},
     "output_type": "display_data"
    },
    {
     "name": "stdout",
     "output_type": "stream",
     "text": [
      "Epoch 73, Step 100, Loss: 3.3701\n",
      "Epoch 73, Step 200, Loss: 3.3741\n",
      "Epoch 73, Step 300, Loss: 3.4861\n",
      "Epoch 73, Step 400, Loss: 3.4622\n",
      "Epoch 73, Step 500, Loss: 3.4952\n",
      "Epoch 73, Step 600, Loss: 3.3425\n",
      "Epoch 73, Step 700, Loss: 3.4950\n",
      "Epoch 73, Step 800, Loss: 3.4200\n",
      "Epoch 73, Step 900, Loss: 3.5293\n",
      "Epoch 73 completed. Average Loss: 3.3748\n"
     ]
    },
    {
     "data": {
      "application/vnd.jupyter.widget-view+json": {
       "model_id": "ebc1cac012c1462999cbd65a05f1aaa0",
       "version_major": 2,
       "version_minor": 0
      },
      "text/plain": [
       "Training:   0%|          | 0/937 [00:00<?, ?it/s]"
      ]
     },
     "metadata": {},
     "output_type": "display_data"
    },
    {
     "name": "stdout",
     "output_type": "stream",
     "text": [
      "Epoch 74, Step 100, Loss: 3.4298\n",
      "Epoch 74, Step 200, Loss: 3.3308\n",
      "Epoch 74, Step 300, Loss: 3.2449\n",
      "Epoch 74, Step 400, Loss: 3.3539\n",
      "Epoch 74, Step 500, Loss: 3.3313\n",
      "Epoch 74, Step 600, Loss: 3.3160\n",
      "Epoch 74, Step 700, Loss: 3.4210\n",
      "Epoch 74, Step 800, Loss: 3.3891\n",
      "Epoch 74, Step 900, Loss: 3.3588\n",
      "Epoch 74 completed. Average Loss: 3.3671\n"
     ]
    },
    {
     "data": {
      "application/vnd.jupyter.widget-view+json": {
       "model_id": "86da560e2b0e4601bf4dedafb34401cc",
       "version_major": 2,
       "version_minor": 0
      },
      "text/plain": [
       "Training:   0%|          | 0/937 [00:00<?, ?it/s]"
      ]
     },
     "metadata": {},
     "output_type": "display_data"
    },
    {
     "name": "stdout",
     "output_type": "stream",
     "text": [
      "Epoch 75, Step 100, Loss: 3.5106\n",
      "Epoch 75, Step 200, Loss: 3.4510\n",
      "Epoch 75, Step 300, Loss: 3.2980\n",
      "Epoch 75, Step 400, Loss: 3.4267\n",
      "Epoch 75, Step 500, Loss: 3.2508\n",
      "Epoch 75, Step 600, Loss: 3.3774\n",
      "Epoch 75, Step 700, Loss: 3.3400\n",
      "Epoch 75, Step 800, Loss: 3.3658\n",
      "Epoch 75, Step 900, Loss: 3.3942\n",
      "Epoch 75 completed. Average Loss: 3.3597\n"
     ]
    },
    {
     "data": {
      "application/vnd.jupyter.widget-view+json": {
       "model_id": "8f59755daa85462584f3aa6fa1362f57",
       "version_major": 2,
       "version_minor": 0
      },
      "text/plain": [
       "Training:   0%|          | 0/937 [00:00<?, ?it/s]"
      ]
     },
     "metadata": {},
     "output_type": "display_data"
    },
    {
     "name": "stdout",
     "output_type": "stream",
     "text": [
      "Epoch 76, Step 100, Loss: 3.3993\n",
      "Epoch 76, Step 200, Loss: 3.3680\n",
      "Epoch 76, Step 300, Loss: 3.3549\n",
      "Epoch 76, Step 400, Loss: 3.4377\n",
      "Epoch 76, Step 500, Loss: 3.2439\n",
      "Epoch 76, Step 600, Loss: 3.2718\n",
      "Epoch 76, Step 700, Loss: 3.2146\n",
      "Epoch 76, Step 800, Loss: 3.4981\n",
      "Epoch 76, Step 900, Loss: 3.3181\n",
      "Epoch 76 completed. Average Loss: 3.3532\n"
     ]
    },
    {
     "data": {
      "application/vnd.jupyter.widget-view+json": {
       "model_id": "62b6d2b3c3b1476a8ae0ec8e6b0f8e11",
       "version_major": 2,
       "version_minor": 0
      },
      "text/plain": [
       "Training:   0%|          | 0/937 [00:00<?, ?it/s]"
      ]
     },
     "metadata": {},
     "output_type": "display_data"
    },
    {
     "name": "stdout",
     "output_type": "stream",
     "text": [
      "Epoch 77, Step 100, Loss: 3.2469\n",
      "Epoch 77, Step 200, Loss: 3.2805\n",
      "Epoch 77, Step 300, Loss: 3.1922\n",
      "Epoch 77, Step 400, Loss: 3.3275\n",
      "Epoch 77, Step 500, Loss: 3.2439\n",
      "Epoch 77, Step 600, Loss: 3.3281\n",
      "Epoch 77, Step 700, Loss: 3.5610\n",
      "Epoch 77, Step 800, Loss: 3.3938\n",
      "Epoch 77, Step 900, Loss: 3.3234\n",
      "Epoch 77 completed. Average Loss: 3.3486\n"
     ]
    },
    {
     "data": {
      "application/vnd.jupyter.widget-view+json": {
       "model_id": "1f2f59c2fa3345c1aee102eb8ffd3959",
       "version_major": 2,
       "version_minor": 0
      },
      "text/plain": [
       "Training:   0%|          | 0/937 [00:00<?, ?it/s]"
      ]
     },
     "metadata": {},
     "output_type": "display_data"
    },
    {
     "name": "stdout",
     "output_type": "stream",
     "text": [
      "Epoch 78, Step 100, Loss: 3.2670\n",
      "Epoch 78, Step 200, Loss: 3.5132\n",
      "Epoch 78, Step 300, Loss: 3.2947\n",
      "Epoch 78, Step 400, Loss: 3.3471\n",
      "Epoch 78, Step 500, Loss: 3.4152\n",
      "Epoch 78, Step 600, Loss: 3.2924\n",
      "Epoch 78, Step 700, Loss: 3.2901\n",
      "Epoch 78, Step 800, Loss: 3.3701\n",
      "Epoch 78, Step 900, Loss: 3.2625\n",
      "Epoch 78 completed. Average Loss: 3.3424\n"
     ]
    },
    {
     "data": {
      "application/vnd.jupyter.widget-view+json": {
       "model_id": "b08b99e3ff8f47be9e1201d1e6f4b621",
       "version_major": 2,
       "version_minor": 0
      },
      "text/plain": [
       "Training:   0%|          | 0/937 [00:00<?, ?it/s]"
      ]
     },
     "metadata": {},
     "output_type": "display_data"
    },
    {
     "name": "stdout",
     "output_type": "stream",
     "text": [
      "Epoch 79, Step 100, Loss: 3.1664\n",
      "Epoch 79, Step 200, Loss: 3.3205\n",
      "Epoch 79, Step 300, Loss: 3.2455\n",
      "Epoch 79, Step 400, Loss: 3.2454\n",
      "Epoch 79, Step 500, Loss: 3.5538\n",
      "Epoch 79, Step 600, Loss: 3.3170\n",
      "Epoch 79, Step 700, Loss: 3.3928\n",
      "Epoch 79, Step 800, Loss: 3.3625\n",
      "Epoch 79, Step 900, Loss: 3.1876\n",
      "Epoch 79 completed. Average Loss: 3.3346\n"
     ]
    },
    {
     "data": {
      "application/vnd.jupyter.widget-view+json": {
       "model_id": "092f546b5f6e4c3ea3b6e518a49d9a84",
       "version_major": 2,
       "version_minor": 0
      },
      "text/plain": [
       "Training:   0%|          | 0/937 [00:00<?, ?it/s]"
      ]
     },
     "metadata": {},
     "output_type": "display_data"
    },
    {
     "name": "stdout",
     "output_type": "stream",
     "text": [
      "Epoch 80, Step 100, Loss: 3.3212\n",
      "Epoch 80, Step 200, Loss: 3.4291\n",
      "Epoch 80, Step 300, Loss: 3.4643\n",
      "Epoch 80, Step 400, Loss: 3.2428\n",
      "Epoch 80, Step 500, Loss: 3.1155\n",
      "Epoch 80, Step 600, Loss: 3.2610\n",
      "Epoch 80, Step 700, Loss: 3.4028\n",
      "Epoch 80, Step 800, Loss: 3.2078\n",
      "Epoch 80, Step 900, Loss: 3.2837\n",
      "Epoch 80 completed. Average Loss: 3.3279\n"
     ]
    },
    {
     "data": {
      "application/vnd.jupyter.widget-view+json": {
       "model_id": "499262e0126e4bb99141cac7678d075f",
       "version_major": 2,
       "version_minor": 0
      },
      "text/plain": [
       "Training:   0%|          | 0/937 [00:00<?, ?it/s]"
      ]
     },
     "metadata": {},
     "output_type": "display_data"
    },
    {
     "name": "stdout",
     "output_type": "stream",
     "text": [
      "Epoch 81, Step 100, Loss: 3.2729\n",
      "Epoch 81, Step 200, Loss: 3.3898\n",
      "Epoch 81, Step 300, Loss: 3.2325\n",
      "Epoch 81, Step 400, Loss: 3.3149\n",
      "Epoch 81, Step 500, Loss: 3.2597\n",
      "Epoch 81, Step 600, Loss: 3.3002\n",
      "Epoch 81, Step 700, Loss: 3.4198\n",
      "Epoch 81, Step 800, Loss: 3.2963\n",
      "Epoch 81, Step 900, Loss: 3.4388\n",
      "Epoch 81 completed. Average Loss: 3.3212\n"
     ]
    },
    {
     "data": {
      "application/vnd.jupyter.widget-view+json": {
       "model_id": "cfe3a6d12a2845af9682df6ef537b643",
       "version_major": 2,
       "version_minor": 0
      },
      "text/plain": [
       "Training:   0%|          | 0/937 [00:00<?, ?it/s]"
      ]
     },
     "metadata": {},
     "output_type": "display_data"
    },
    {
     "name": "stdout",
     "output_type": "stream",
     "text": [
      "Epoch 82, Step 100, Loss: 3.2584\n",
      "Epoch 82, Step 200, Loss: 3.2711\n",
      "Epoch 82, Step 300, Loss: 3.3199\n",
      "Epoch 82, Step 400, Loss: 3.4036\n",
      "Epoch 82, Step 500, Loss: 3.3060\n",
      "Epoch 82, Step 600, Loss: 3.2958\n",
      "Epoch 82, Step 700, Loss: 3.2347\n",
      "Epoch 82, Step 800, Loss: 3.2034\n",
      "Epoch 82, Step 900, Loss: 3.3812\n",
      "Epoch 82 completed. Average Loss: 3.3150\n"
     ]
    },
    {
     "data": {
      "application/vnd.jupyter.widget-view+json": {
       "model_id": "593a5d6a8202446eb034da9b3598d52a",
       "version_major": 2,
       "version_minor": 0
      },
      "text/plain": [
       "Training:   0%|          | 0/937 [00:00<?, ?it/s]"
      ]
     },
     "metadata": {},
     "output_type": "display_data"
    },
    {
     "name": "stdout",
     "output_type": "stream",
     "text": [
      "Epoch 83, Step 100, Loss: 3.2089\n",
      "Epoch 83, Step 200, Loss: 3.3258\n",
      "Epoch 83, Step 300, Loss: 3.1629\n",
      "Epoch 83, Step 400, Loss: 3.3477\n",
      "Epoch 83, Step 500, Loss: 3.3537\n",
      "Epoch 83, Step 600, Loss: 3.3726\n",
      "Epoch 83, Step 700, Loss: 3.3196\n",
      "Epoch 83, Step 800, Loss: 3.3101\n",
      "Epoch 83, Step 900, Loss: 3.1410\n",
      "Epoch 83 completed. Average Loss: 3.3101\n"
     ]
    },
    {
     "data": {
      "application/vnd.jupyter.widget-view+json": {
       "model_id": "d597e1136b924e23a3161d2c2dc8530a",
       "version_major": 2,
       "version_minor": 0
      },
      "text/plain": [
       "Training:   0%|          | 0/937 [00:00<?, ?it/s]"
      ]
     },
     "metadata": {},
     "output_type": "display_data"
    },
    {
     "name": "stdout",
     "output_type": "stream",
     "text": [
      "Epoch 84, Step 100, Loss: 3.4977\n",
      "Epoch 84, Step 200, Loss: 3.1617\n",
      "Epoch 84, Step 300, Loss: 3.4238\n",
      "Epoch 84, Step 400, Loss: 3.4064\n",
      "Epoch 84, Step 500, Loss: 3.4186\n",
      "Epoch 84, Step 600, Loss: 3.2355\n",
      "Epoch 84, Step 700, Loss: 3.2569\n",
      "Epoch 84, Step 800, Loss: 3.3505\n",
      "Epoch 84, Step 900, Loss: 3.3704\n",
      "Epoch 84 completed. Average Loss: 3.3054\n"
     ]
    },
    {
     "data": {
      "application/vnd.jupyter.widget-view+json": {
       "model_id": "b723d64d757f4e2089d6fd8da222fb56",
       "version_major": 2,
       "version_minor": 0
      },
      "text/plain": [
       "Training:   0%|          | 0/937 [00:00<?, ?it/s]"
      ]
     },
     "metadata": {},
     "output_type": "display_data"
    },
    {
     "name": "stdout",
     "output_type": "stream",
     "text": [
      "Epoch 85, Step 100, Loss: 3.3019\n",
      "Epoch 85, Step 200, Loss: 3.2103\n",
      "Epoch 85, Step 300, Loss: 3.2822\n",
      "Epoch 85, Step 400, Loss: 3.2344\n",
      "Epoch 85, Step 500, Loss: 3.2905\n",
      "Epoch 85, Step 600, Loss: 3.2026\n",
      "Epoch 85, Step 700, Loss: 3.3082\n",
      "Epoch 85, Step 800, Loss: 3.2764\n",
      "Epoch 85, Step 900, Loss: 3.4728\n",
      "Epoch 85 completed. Average Loss: 3.2983\n"
     ]
    },
    {
     "data": {
      "application/vnd.jupyter.widget-view+json": {
       "model_id": "ae329dcf481744528952abf468db3501",
       "version_major": 2,
       "version_minor": 0
      },
      "text/plain": [
       "Training:   0%|          | 0/937 [00:00<?, ?it/s]"
      ]
     },
     "metadata": {},
     "output_type": "display_data"
    },
    {
     "name": "stdout",
     "output_type": "stream",
     "text": [
      "Epoch 86, Step 100, Loss: 3.2051\n",
      "Epoch 86, Step 200, Loss: 3.4037\n",
      "Epoch 86, Step 300, Loss: 3.2339\n",
      "Epoch 86, Step 400, Loss: 3.2655\n",
      "Epoch 86, Step 500, Loss: 3.2231\n",
      "Epoch 86, Step 600, Loss: 3.2552\n",
      "Epoch 86, Step 700, Loss: 3.5088\n",
      "Epoch 86, Step 800, Loss: 3.5213\n",
      "Epoch 86, Step 900, Loss: 3.4002\n",
      "Epoch 86 completed. Average Loss: 3.2916\n"
     ]
    },
    {
     "data": {
      "application/vnd.jupyter.widget-view+json": {
       "model_id": "a36132d5c2ee4be186075c71910a143d",
       "version_major": 2,
       "version_minor": 0
      },
      "text/plain": [
       "Training:   0%|          | 0/937 [00:00<?, ?it/s]"
      ]
     },
     "metadata": {},
     "output_type": "display_data"
    },
    {
     "name": "stdout",
     "output_type": "stream",
     "text": [
      "Epoch 87, Step 100, Loss: 3.3282\n",
      "Epoch 87, Step 200, Loss: 3.3261\n",
      "Epoch 87, Step 300, Loss: 3.3735\n",
      "Epoch 87, Step 400, Loss: 3.3988\n",
      "Epoch 87, Step 500, Loss: 3.2105\n",
      "Epoch 87, Step 600, Loss: 3.2861\n",
      "Epoch 87, Step 700, Loss: 3.2776\n",
      "Epoch 87, Step 800, Loss: 3.3216\n",
      "Epoch 87, Step 900, Loss: 3.2217\n",
      "Epoch 87 completed. Average Loss: 3.2868\n"
     ]
    },
    {
     "data": {
      "application/vnd.jupyter.widget-view+json": {
       "model_id": "f100291400fc4c6cbc415f2b538525df",
       "version_major": 2,
       "version_minor": 0
      },
      "text/plain": [
       "Training:   0%|          | 0/937 [00:00<?, ?it/s]"
      ]
     },
     "metadata": {},
     "output_type": "display_data"
    },
    {
     "name": "stdout",
     "output_type": "stream",
     "text": [
      "Epoch 88, Step 100, Loss: 3.0718\n",
      "Epoch 88, Step 200, Loss: 3.2509\n",
      "Epoch 88, Step 300, Loss: 3.2243\n",
      "Epoch 88, Step 400, Loss: 3.2995\n",
      "Epoch 88, Step 500, Loss: 3.3143\n",
      "Epoch 88, Step 600, Loss: 3.2965\n",
      "Epoch 88, Step 700, Loss: 3.3418\n",
      "Epoch 88, Step 800, Loss: 3.1493\n",
      "Epoch 88, Step 900, Loss: 3.4134\n",
      "Epoch 88 completed. Average Loss: 3.2817\n"
     ]
    },
    {
     "data": {
      "application/vnd.jupyter.widget-view+json": {
       "model_id": "6f874011555f488faddcf1904d03511c",
       "version_major": 2,
       "version_minor": 0
      },
      "text/plain": [
       "Training:   0%|          | 0/937 [00:00<?, ?it/s]"
      ]
     },
     "metadata": {},
     "output_type": "display_data"
    },
    {
     "name": "stdout",
     "output_type": "stream",
     "text": [
      "Epoch 89, Step 100, Loss: 3.1688\n",
      "Epoch 89, Step 200, Loss: 3.3443\n",
      "Epoch 89, Step 300, Loss: 3.1810\n",
      "Epoch 89, Step 400, Loss: 3.1434\n",
      "Epoch 89, Step 500, Loss: 3.3125\n",
      "Epoch 89, Step 600, Loss: 3.3961\n",
      "Epoch 89, Step 700, Loss: 3.1838\n",
      "Epoch 89, Step 800, Loss: 3.3275\n",
      "Epoch 89, Step 900, Loss: 3.2770\n",
      "Epoch 89 completed. Average Loss: 3.2766\n"
     ]
    },
    {
     "data": {
      "application/vnd.jupyter.widget-view+json": {
       "model_id": "4636ab78a1d1438391c97eba75683d6e",
       "version_major": 2,
       "version_minor": 0
      },
      "text/plain": [
       "Training:   0%|          | 0/937 [00:00<?, ?it/s]"
      ]
     },
     "metadata": {},
     "output_type": "display_data"
    },
    {
     "name": "stdout",
     "output_type": "stream",
     "text": [
      "Epoch 90, Step 100, Loss: 3.1899\n",
      "Epoch 90, Step 200, Loss: 3.2922\n",
      "Epoch 90, Step 300, Loss: 3.2110\n",
      "Epoch 90, Step 400, Loss: 3.2474\n",
      "Epoch 90, Step 500, Loss: 3.2629\n",
      "Epoch 90, Step 600, Loss: 3.2386\n",
      "Epoch 90, Step 700, Loss: 3.3892\n",
      "Epoch 90, Step 800, Loss: 3.2048\n",
      "Epoch 90, Step 900, Loss: 3.3231\n",
      "Epoch 90 completed. Average Loss: 3.2689\n"
     ]
    },
    {
     "data": {
      "application/vnd.jupyter.widget-view+json": {
       "model_id": "9b1e6811f55b46ecaf1c7304ab6e9a5b",
       "version_major": 2,
       "version_minor": 0
      },
      "text/plain": [
       "Training:   0%|          | 0/937 [00:00<?, ?it/s]"
      ]
     },
     "metadata": {},
     "output_type": "display_data"
    },
    {
     "name": "stdout",
     "output_type": "stream",
     "text": [
      "Epoch 91, Step 100, Loss: 3.1267\n",
      "Epoch 91, Step 200, Loss: 3.2756\n",
      "Epoch 91, Step 300, Loss: 3.2996\n",
      "Epoch 91, Step 400, Loss: 3.2119\n",
      "Epoch 91, Step 500, Loss: 3.2509\n",
      "Epoch 91, Step 600, Loss: 3.2230\n",
      "Epoch 91, Step 700, Loss: 3.2784\n",
      "Epoch 91, Step 800, Loss: 3.1873\n",
      "Epoch 91, Step 900, Loss: 3.2454\n",
      "Epoch 91 completed. Average Loss: 3.2643\n"
     ]
    },
    {
     "data": {
      "application/vnd.jupyter.widget-view+json": {
       "model_id": "15eb1df6f11b4cccaac881dc56d0dcd3",
       "version_major": 2,
       "version_minor": 0
      },
      "text/plain": [
       "Training:   0%|          | 0/937 [00:00<?, ?it/s]"
      ]
     },
     "metadata": {},
     "output_type": "display_data"
    },
    {
     "name": "stdout",
     "output_type": "stream",
     "text": [
      "Epoch 92, Step 100, Loss: 3.1336\n",
      "Epoch 92, Step 200, Loss: 3.1840\n",
      "Epoch 92, Step 300, Loss: 3.1567\n",
      "Epoch 92, Step 400, Loss: 3.2225\n",
      "Epoch 92, Step 500, Loss: 3.3861\n",
      "Epoch 92, Step 600, Loss: 3.0911\n",
      "Epoch 92, Step 700, Loss: 3.2966\n",
      "Epoch 92, Step 800, Loss: 3.2480\n",
      "Epoch 92, Step 900, Loss: 3.3576\n",
      "Epoch 92 completed. Average Loss: 3.2604\n"
     ]
    },
    {
     "data": {
      "application/vnd.jupyter.widget-view+json": {
       "model_id": "842e6a97a1964366a4de86afaa30ad0a",
       "version_major": 2,
       "version_minor": 0
      },
      "text/plain": [
       "Training:   0%|          | 0/937 [00:00<?, ?it/s]"
      ]
     },
     "metadata": {},
     "output_type": "display_data"
    },
    {
     "name": "stdout",
     "output_type": "stream",
     "text": [
      "Epoch 93, Step 100, Loss: 3.2049\n",
      "Epoch 93, Step 200, Loss: 3.2332\n",
      "Epoch 93, Step 300, Loss: 3.3287\n",
      "Epoch 93, Step 400, Loss: 3.2457\n",
      "Epoch 93, Step 500, Loss: 3.2249\n",
      "Epoch 93, Step 600, Loss: 3.3432\n",
      "Epoch 93, Step 700, Loss: 3.2591\n",
      "Epoch 93, Step 800, Loss: 3.3529\n",
      "Epoch 93, Step 900, Loss: 3.3009\n",
      "Epoch 93 completed. Average Loss: 3.2546\n"
     ]
    },
    {
     "data": {
      "application/vnd.jupyter.widget-view+json": {
       "model_id": "071f9c15919d4b69b0da7758a1bc91bb",
       "version_major": 2,
       "version_minor": 0
      },
      "text/plain": [
       "Training:   0%|          | 0/937 [00:00<?, ?it/s]"
      ]
     },
     "metadata": {},
     "output_type": "display_data"
    },
    {
     "name": "stdout",
     "output_type": "stream",
     "text": [
      "Epoch 94, Step 100, Loss: 3.1204\n",
      "Epoch 94, Step 200, Loss: 3.2230\n",
      "Epoch 94, Step 300, Loss: 3.1369\n",
      "Epoch 94, Step 400, Loss: 3.3013\n",
      "Epoch 94, Step 500, Loss: 3.2447\n",
      "Epoch 94, Step 600, Loss: 3.2669\n",
      "Epoch 94, Step 700, Loss: 3.3769\n",
      "Epoch 94, Step 800, Loss: 3.3261\n",
      "Epoch 94, Step 900, Loss: 3.3561\n",
      "Epoch 94 completed. Average Loss: 3.2489\n"
     ]
    },
    {
     "data": {
      "application/vnd.jupyter.widget-view+json": {
       "model_id": "7a6f623a4cda49c193c6c09442ac34a3",
       "version_major": 2,
       "version_minor": 0
      },
      "text/plain": [
       "Training:   0%|          | 0/937 [00:00<?, ?it/s]"
      ]
     },
     "metadata": {},
     "output_type": "display_data"
    },
    {
     "name": "stdout",
     "output_type": "stream",
     "text": [
      "Epoch 95, Step 100, Loss: 3.2616\n",
      "Epoch 95, Step 200, Loss: 3.0769\n",
      "Epoch 95, Step 300, Loss: 3.1379\n",
      "Epoch 95, Step 400, Loss: 3.2682\n",
      "Epoch 95, Step 500, Loss: 3.2672\n",
      "Epoch 95, Step 600, Loss: 3.3704\n",
      "Epoch 95, Step 700, Loss: 3.2014\n",
      "Epoch 95, Step 800, Loss: 3.2944\n",
      "Epoch 95, Step 900, Loss: 3.2782\n",
      "Epoch 95 completed. Average Loss: 3.2438\n"
     ]
    },
    {
     "data": {
      "application/vnd.jupyter.widget-view+json": {
       "model_id": "e50b450d45a64c9bb082f7b36109f4cc",
       "version_major": 2,
       "version_minor": 0
      },
      "text/plain": [
       "Training:   0%|          | 0/937 [00:00<?, ?it/s]"
      ]
     },
     "metadata": {},
     "output_type": "display_data"
    },
    {
     "name": "stdout",
     "output_type": "stream",
     "text": [
      "Epoch 96, Step 100, Loss: 3.3486\n",
      "Epoch 96, Step 200, Loss: 3.2368\n",
      "Epoch 96, Step 300, Loss: 3.3905\n",
      "Epoch 96, Step 400, Loss: 3.1862\n",
      "Epoch 96, Step 500, Loss: 3.2479\n",
      "Epoch 96, Step 600, Loss: 3.3961\n",
      "Epoch 96, Step 700, Loss: 3.2092\n",
      "Epoch 96, Step 800, Loss: 3.2057\n",
      "Epoch 96, Step 900, Loss: 3.1605\n",
      "Epoch 96 completed. Average Loss: 3.2397\n"
     ]
    },
    {
     "data": {
      "application/vnd.jupyter.widget-view+json": {
       "model_id": "4cf1605f0985436abe5a97b8c5fee156",
       "version_major": 2,
       "version_minor": 0
      },
      "text/plain": [
       "Training:   0%|          | 0/937 [00:00<?, ?it/s]"
      ]
     },
     "metadata": {},
     "output_type": "display_data"
    },
    {
     "name": "stdout",
     "output_type": "stream",
     "text": [
      "Epoch 97, Step 100, Loss: 3.1673\n",
      "Epoch 97, Step 200, Loss: 3.1741\n",
      "Epoch 97, Step 300, Loss: 3.1309\n",
      "Epoch 97, Step 400, Loss: 3.2092\n",
      "Epoch 97, Step 500, Loss: 3.2808\n",
      "Epoch 97, Step 600, Loss: 3.2895\n",
      "Epoch 97, Step 700, Loss: 3.1511\n",
      "Epoch 97, Step 800, Loss: 3.1737\n",
      "Epoch 97, Step 900, Loss: 3.2023\n",
      "Epoch 97 completed. Average Loss: 3.2332\n"
     ]
    },
    {
     "data": {
      "application/vnd.jupyter.widget-view+json": {
       "model_id": "2383c8ffdf8f4d3785729b18e42adfaa",
       "version_major": 2,
       "version_minor": 0
      },
      "text/plain": [
       "Training:   0%|          | 0/937 [00:00<?, ?it/s]"
      ]
     },
     "metadata": {},
     "output_type": "display_data"
    },
    {
     "name": "stdout",
     "output_type": "stream",
     "text": [
      "Epoch 98, Step 100, Loss: 3.1719\n",
      "Epoch 98, Step 200, Loss: 3.1234\n",
      "Epoch 98, Step 300, Loss: 3.3345\n",
      "Epoch 98, Step 400, Loss: 3.1683\n",
      "Epoch 98, Step 500, Loss: 3.1999\n",
      "Epoch 98, Step 600, Loss: 3.2380\n",
      "Epoch 98, Step 700, Loss: 3.1587\n",
      "Epoch 98, Step 800, Loss: 3.2295\n",
      "Epoch 98, Step 900, Loss: 3.4091\n",
      "Epoch 98 completed. Average Loss: 3.2293\n"
     ]
    },
    {
     "data": {
      "application/vnd.jupyter.widget-view+json": {
       "model_id": "94d98b24f2424ecfbdbad904ab623c21",
       "version_major": 2,
       "version_minor": 0
      },
      "text/plain": [
       "Training:   0%|          | 0/937 [00:00<?, ?it/s]"
      ]
     },
     "metadata": {},
     "output_type": "display_data"
    },
    {
     "name": "stdout",
     "output_type": "stream",
     "text": [
      "Epoch 99, Step 100, Loss: 3.2939\n",
      "Epoch 99, Step 200, Loss: 3.1847\n",
      "Epoch 99, Step 300, Loss: 3.2141\n",
      "Epoch 99, Step 400, Loss: 3.2997\n",
      "Epoch 99, Step 500, Loss: 3.1766\n",
      "Epoch 99, Step 600, Loss: 3.2431\n",
      "Epoch 99, Step 700, Loss: 3.2902\n",
      "Epoch 99, Step 800, Loss: 3.2683\n",
      "Epoch 99, Step 900, Loss: 3.2038\n",
      "Epoch 99 completed. Average Loss: 3.2240\n"
     ]
    },
    {
     "data": {
      "application/vnd.jupyter.widget-view+json": {
       "model_id": "069f77d250b24ea39a5253298d881766",
       "version_major": 2,
       "version_minor": 0
      },
      "text/plain": [
       "Training:   0%|          | 0/937 [00:00<?, ?it/s]"
      ]
     },
     "metadata": {},
     "output_type": "display_data"
    },
    {
     "name": "stdout",
     "output_type": "stream",
     "text": [
      "Epoch 100, Step 100, Loss: 3.2911\n",
      "Epoch 100, Step 200, Loss: 3.1108\n",
      "Epoch 100, Step 300, Loss: 3.2418\n",
      "Epoch 100, Step 400, Loss: 3.1061\n",
      "Epoch 100, Step 500, Loss: 3.2321\n",
      "Epoch 100, Step 600, Loss: 3.2567\n",
      "Epoch 100, Step 700, Loss: 3.4112\n",
      "Epoch 100, Step 800, Loss: 3.3199\n",
      "Epoch 100, Step 900, Loss: 3.1727\n",
      "Epoch 100 completed. Average Loss: 3.2202\n"
     ]
    }
   ],
   "source": [
    "for epoch in trange(0, nepochs, leave=False, desc=\"Epoch\"):    \n",
    "    tf_generator.train()\n",
    "    steps = 0\n",
    "    epoch_loss = 0\n",
    "    for text in tqdm(data_loader_train, desc=\"Training\", leave=False):\n",
    "        # Convert text to tokenized input\n",
    "        text_tokens = train_tranform(list(text)).to(device)\n",
    "        bs = text_tokens.shape[0]\n",
    "        \n",
    "        # Randomly drop input tokens\n",
    "        input_text = td(text_tokens[:, 0:-1])\n",
    "        output_text = text_tokens[:, 1:]\n",
    "\n",
    "        # Generate predictions\n",
    "        with torch.amp.autocast(device_type='cuda'):\n",
    "            pred = tf_generator(input_text)\n",
    "\n",
    "        # Calculate loss with masked cross-entropy\n",
    "        mask = (output_text != 0).float()\n",
    "        loss = (loss_fn(pred.transpose(1, 2), output_text) * mask).sum()/mask.sum()\n",
    "        \n",
    "        # Backpropagation\n",
    "        optimizer.zero_grad()\n",
    "        scaler.scale(loss).backward()\n",
    "        scaler.step(optimizer)\n",
    "        scaler.update()\n",
    "\n",
    "        # Log training loss and entropy\n",
    "        training_loss_logger.append(loss.item())\n",
    "        epoch_loss += loss.item()\n",
    "        with torch.no_grad():\n",
    "            dist = Categorical(logits=pred)\n",
    "            entropy_logger.append(dist.entropy().mean().item())\n",
    "        \n",
    "        steps += 1\n",
    "        if steps % 100 == 0:\n",
    "            print(f\"Epoch {epoch+1}, Step {steps}, Loss: {loss.item():.4f}\")\n",
    "    \n",
    "    # Print average loss for the epoch\n",
    "    print(f\"Epoch {epoch+1} completed. Average Loss: {epoch_loss/len(data_loader_train):.4f}\")"
   ]
  },
  {
   "cell_type": "markdown",
   "id": "82814571",
   "metadata": {},
   "source": [
    "## Plot Metrics"
   ]
  },
  {
   "cell_type": "code",
   "execution_count": 19,
   "id": "8c93202a",
   "metadata": {},
   "outputs": [
    {
     "data": {
      "image/png": "[encoded data removed]",
      "text/plain": [
       "<Figure size 1000x500 with 1 Axes>"
      ]
     },
     "metadata": {},
     "output_type": "display_data"
    }
   ],
   "source": [
    "_ = plt.figure(figsize=(10, 5))\n",
    "_ = plt.plot(training_loss_logger[10000:])\n",
    "_ = plt.title(\"Training Loss\")"
   ]
  },
  {
   "cell_type": "code",
   "execution_count": 20,
   "id": "8cb45361",
   "metadata": {},
   "outputs": [
    {
     "data": {
      "image/png": "[encoded data removed]",
      "text/plain": [
       "<Figure size 1000x500 with 1 Axes>"
      ]
     },
     "metadata": {},
     "output_type": "display_data"
    }
   ],
   "source": [
    "_ = plt.figure(figsize=(10, 5))\n",
    "_ = plt.plot(entropy_logger[10000:])\n",
    "_ = plt.title(\"Distribution Entropy\")"
   ]
  },
  {
   "cell_type": "markdown",
   "id": "9196d8cc",
   "metadata": {},
   "source": [
    "## Testing"
   ]
  },
  {
   "cell_type": "code",
   "execution_count": 21,
   "id": "1184b117",
   "metadata": {},
   "outputs": [],
   "source": [
    "# Get an example from the test set\n",
    "text = next(iter(data_loader_test))"
   ]
  },
  {
   "cell_type": "code",
   "execution_count": 22,
   "id": "74e60924",
   "metadata": {},
   "outputs": [
    {
     "name": "stdout",
     "output_type": "stream",
     "text": [
      "INITIAL PROMPT:\n",
      "exit polls\n",
      "\n",
      "ORIGINAL CONTENT:\n",
      " hong kong democrats win limited gains \n",
      "\n",
      "PROMPT TOKENS:\n",
      "tensor([[    1,  9286, 14917,   237]])\n",
      "['<sos>', '▁exit', '▁polls', ':']\n"
     ]
    }
   ],
   "source": [
    "# Set index of the example to use\n",
    "index = 0\n",
    "\n",
    "# Set temperature for sampling\n",
    "temp = 0.6\n",
    "\n",
    "# Split text into title and content\n",
    "title = text[index].split(\":\")[0]\n",
    "init_prompt = [title + \":\"]  # Create initial prompt using the title\n",
    "\n",
    "# Extract content from text\n",
    "content = text[index].split(\":\")[1]\n",
    "\n",
    "# Tokenize the initial prompt\n",
    "init_tokens = gen_tranform(init_prompt)\n",
    "\n",
    "# Print initial prompt, original content, and tokenized prompt\n",
    "print(\"INITIAL PROMPT:\")\n",
    "print(title)\n",
    "print(\"\")\n",
    "print(\"ORIGINAL CONTENT:\")\n",
    "print(content)\n",
    "print(\"\")\n",
    "print(\"PROMPT TOKENS:\")\n",
    "print(init_tokens)\n",
    "print(vocab.lookup_tokens(init_tokens[0].cpu().numpy()))"
   ]
  },
  {
   "cell_type": "code",
   "execution_count": 23,
   "id": "b5fa929f",
   "metadata": {},
   "outputs": [
    {
     "name": "stderr",
     "output_type": "stream",
     "text": [
      "/home/ran/anaconda3/envs/linly/lib/python3.10/site-packages/torch/nn/modules/activation.py:1160: UserWarning: Converting mask without torch.bool dtype to bool; this will negatively affect performance. Prefer to use a boolean mask directly. (Triggered internally at ../aten/src/ATen/native/transformers/attention.cpp:150.)\n",
      "  return torch._native_multi_head_attention(\n"
     ]
    }
   ],
   "source": [
    "# List to log generated tokens\n",
    "log_tokens = [init_tokens]\n",
    "\n",
    "# Set the generator model to evaluation mode\n",
    "tf_generator.eval()\n",
    "\n",
    "# Generate tokens\n",
    "with torch.no_grad():    \n",
    "    for i in range(10):\n",
    "        # Concatenate tokens from previous iterations\n",
    "        input_tokens = torch.cat(log_tokens, 1)\n",
    "        \n",
    "        # Get model predictions for the next token\n",
    "        data_pred = tf_generator(input_tokens.to(device))\n",
    "        \n",
    "        # Sample the next token from the distribution of probabilities\n",
    "        dist = Categorical(logits=data_pred[:, -1] / temp)\n",
    "        next_tokens = dist.sample().reshape(1, 1)\n",
    "        \n",
    "        # Append the sampled token to the list of generated tokens\n",
    "        log_tokens.append(next_tokens.cpu())\n",
    "        \n",
    "        # Check for end-of-sequence token and stop generation\n",
    "        if next_tokens.item() == 2:\n",
    "            break"
   ]
  },
  {
   "cell_type": "code",
   "execution_count": 24,
   "id": "7fbe6d73",
   "metadata": {
    "scrolled": true
   },
   "outputs": [
    {
     "name": "stdout",
     "output_type": "stream",
     "text": [
      "<sos>▁exit▁polls:▁coors▁jones▁advances▁to▁disney▁:▁new▁york▁(reuters\n"
     ]
    }
   ],
   "source": [
    "# Concatenate generated tokens into a single string\n",
    "pred_text = \"\".join(vocab.lookup_tokens(torch.cat(log_tokens, 1)[0].numpy()))\n",
    "\n",
    "# Print the generated text\n",
    "print(pred_text)"
   ]
  },
  {
   "cell_type": "code",
   "execution_count": 25,
   "id": "9112b251",
   "metadata": {},
   "outputs": [
    {
     "name": "stdout",
     "output_type": "stream",
     "text": [
      " exit polls: coors jones advances to disney : new york (reuters\n"
     ]
    }
   ],
   "source": [
    "# Replace special tokens and characters in the generated text\n",
    "pred_text_cleaned = pred_text.replace(\"▁\", \" \").replace(\"<unk>\", \"\").replace(\"<sos>\", \"\").replace(\"<eos>\", \"\")\n",
    "\n",
    "# Print the cleaned generated text\n",
    "print(pred_text_cleaned)"
   ]
  },
  {
   "cell_type": "code",
   "execution_count": 26,
   "id": "e23e7c76",
   "metadata": {},
   "outputs": [
    {
     "data": {
      "image/png": "[encoded data removed]",
      "text/plain": [
       "<Figure size 640x480 with 1 Axes>"
      ]
     },
     "metadata": {},
     "output_type": "display_data"
    }
   ],
   "source": [
    "# Plot the softmax probabilities of the next token\n",
    "_ = plt.plot(F.softmax(data_pred[0, -1] / temp, -1).cpu().numpy().flatten())"
   ]
  },
  {
   "cell_type": "code",
   "execution_count": null,
   "id": "627b1fe2",
   "metadata": {},
   "outputs": [],
   "source": []
  },
  {
   "cell_type": "code",
   "execution_count": null,
   "id": "2f51b6f2",
   "metadata": {},
   "outputs": [],
   "source": [
    "\n"
   ]
  }
 ],
 "metadata": {
  "kernelspec": {
   "display_name": "Python 3 (ipykernel)",
   "language": "python",
   "name": "python3"
  },
  "language_info": {
   "codemirror_mode": {
    "name": "ipython",
    "version": 3
   },
   "file_extension": ".py",
   "mimetype": "text/x-python",
   "name": "python",
   "nbconvert_exporter": "python",
   "pygments_lexer": "ipython3",
   "version": "3.10.4"
  }
 },
 "nbformat": 4,
 "nbformat_minor": 5
}
